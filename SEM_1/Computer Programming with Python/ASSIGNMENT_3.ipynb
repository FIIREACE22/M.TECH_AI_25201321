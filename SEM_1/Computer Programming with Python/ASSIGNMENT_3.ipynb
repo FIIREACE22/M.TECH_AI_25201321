{
  "nbformat": 4,
  "nbformat_minor": 0,
  "metadata": {
    "colab": {
      "provenance": []
    },
    "kernelspec": {
      "name": "python3",
      "display_name": "Python 3"
    },
    "language_info": {
      "name": "python"
    }
  },
  "cells": [
    {
      "cell_type": "markdown",
      "source": [
        "Q1) Generate all prime numbers less than 100.Print them in a spiral format (like a clockwise\n",
        "square spiral) of minimal size that fits all primes."
      ],
      "metadata": {
        "id": "5jkIZNoHjbV5"
      }
    },
    {
      "cell_type": "code",
      "execution_count": 80,
      "metadata": {
        "colab": {
          "base_uri": "https://localhost:8080/"
        },
        "id": "J2tHuWAujStG",
        "outputId": "ba1d519f-6a31-4461-c13d-24f77c8e9dcd"
      },
      "outputs": [
        {
          "output_type": "stream",
          "name": "stdout",
          "text": [
            "1  2  3  4  5  7  11  13  \n",
            "                     17\n",
            "97                   19\n",
            "89                   23\n",
            "83                   29\n",
            "79                   31\n",
            "73                   37\n",
            "71 67 61 59 53 47 43 41 "
          ]
        }
      ],
      "source": [
        "import math\n",
        "\n",
        "prime =[]\n",
        "for i in range (1,101,1):\n",
        "  c=0\n",
        "  for j in range(2,int(i/2)):\n",
        "    if i % j == 0:\n",
        "      c+=1\n",
        "  if c == 0:\n",
        "    prime.append(i)\n",
        "n= len(prime)\n",
        "prime.append(-1)\n",
        "e = math.ceil(n/4) +1\n",
        "z = n\n",
        "#print(e)\n",
        "for i in range(e):\n",
        "  print(prime[i],end=\"  \")\n",
        "print()\n",
        "for i in range(8,6+e):\n",
        "  for j in range(e-1):\n",
        "    if j==e-2:\n",
        "      print(prime[i])\n",
        "    elif 1 <=j <e-2:\n",
        "      print(end=\"   \")\n",
        "    elif z ==27:\n",
        "      print(\"  \",end=\"    \")\n",
        "    else:\n",
        "      print(prime[z],end=\"    \")\n",
        "  z-=1\n",
        "for i in range(13+e,13,-1):\n",
        "  print(prime[i],end=\" \")"
      ]
    },
    {
      "cell_type": "markdown",
      "source": [
        "Q2) You are a data analyst at a streaming platform, managing user interactions, analytics,\n",
        "and daily operations. Use a for loop to create a text-based graph of hourly views. For\n",
        "example, use * to represent every 5 views."
      ],
      "metadata": {
        "id": "quVt4rHC3-co"
      }
    },
    {
      "cell_type": "code",
      "source": [
        "n = int(input(\"Enter the number of hours--> \"))\n",
        "views =[]\n",
        "star=[]\n",
        "for i in range(n):\n",
        "  c=int(input(\"Hour {} ->\".format(i+1)))\n",
        "  views.append(c)\n",
        "  star.append(int(c/5))\n",
        "print(views)\n",
        "print(star)\n",
        "ch = \"*\"\n",
        "for i in range(n):\n",
        "  print(\"Hour {}--> {}\".format(i,ch*star[i]))"
      ],
      "metadata": {
        "colab": {
          "base_uri": "https://localhost:8080/"
        },
        "id": "klzsIOHQsIMV",
        "outputId": "d736d992-401b-40ab-a00a-e346b5f919f0"
      },
      "execution_count": 87,
      "outputs": [
        {
          "output_type": "stream",
          "name": "stdout",
          "text": [
            "Enter the number of hours--> 5\n",
            "Hour 1 ->12\n",
            "Hour 2 ->23\n",
            "Hour 3 ->45\n",
            "Hour 4 ->28\n",
            "Hour 5 ->31\n",
            "[12, 23, 45, 28, 31]\n",
            "[2, 4, 9, 5, 6]\n",
            "Hour 0--> **\n",
            "Hour 1--> ****\n",
            "Hour 2--> *********\n",
            "Hour 3--> *****\n",
            "Hour 4--> ******\n"
          ]
        }
      ]
    },
    {
      "cell_type": "markdown",
      "source": [
        "\n",
        "Q3) Each video watched generates revenue based on ad impressions:\n",
        " First 10 views: $0.50 per view\n",
        " Next 20 views: $0.30 per view\n",
        " Remaining views: $0.10 per view\n",
        "You are given hourly views for the day. Calculate total daily revenue."
      ],
      "metadata": {
        "id": "i0QRnXYs79-k"
      }
    },
    {
      "cell_type": "code",
      "source": [
        "views=[]\n",
        "for i in range(24):\n",
        "  c=int(input(\"Hour {} ->\".format(i+1)))\n",
        "  views.append(c)\n",
        "t= sum(views)\n",
        "if t < 10 :\n",
        "  r = t * 0.50\n",
        "elif t < 30:\n",
        "  r = 10 *0.5 + (t-10)*0.30\n",
        "else:\n",
        "  r = 10 *0.5 + 20*0.30 + (t-30)*0.10\n",
        "print(\"Total daily revenue--> $0\",r)"
      ],
      "metadata": {
        "colab": {
          "base_uri": "https://localhost:8080/"
        },
        "id": "Q720GQbE5rLl",
        "outputId": "7d5ea5db-aabe-4309-d1db-15a02b7c8226"
      },
      "execution_count": 90,
      "outputs": [
        {
          "output_type": "stream",
          "name": "stdout",
          "text": [
            "Hour 1 ->10\n",
            "Hour 2 ->25\n",
            "Hour 3 ->23\n",
            "Hour 4 ->21\n",
            "Hour 5 ->24\n",
            "Hour 6 ->56\n",
            "Hour 7 ->55\n",
            "Hour 8 ->57\n",
            "Hour 9 ->58\n",
            "Hour 10 ->142\n",
            "Hour 11 ->106\n",
            "Hour 12 ->21\n",
            "Hour 13 ->0\n",
            "Hour 14 ->0\n",
            "Hour 15 ->14\n",
            "Hour 16 ->24\n",
            "Hour 17 ->57\n",
            "Hour 18 ->59\n",
            "Hour 19 ->56\n",
            "Hour 20 ->10\n",
            "Hour 21 ->14\n",
            "Hour 22 ->22\n",
            "Hour 23 ->55\n",
            "Hour 24 ->4\n",
            "Total daily revenue--> $ 99.30000000000001\n"
          ]
        }
      ]
    },
    {
      "cell_type": "code",
      "source": [],
      "metadata": {
        "id": "9m0AyJiJ9Nvt"
      },
      "execution_count": null,
      "outputs": []
    }
  ]
}