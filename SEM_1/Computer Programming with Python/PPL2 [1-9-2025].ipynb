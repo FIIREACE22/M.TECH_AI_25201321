{
 "cells": [
  {
   "cell_type": "code",
   "execution_count": 1,
   "id": "43b4e6cc",
   "metadata": {},
   "outputs": [
    {
     "name": "stdout",
     "output_type": "stream",
     "text": [
      "Good + Morninng\n"
     ]
    }
   ],
   "source": [
    "print(\"Good + Morninng\")"
   ]
  },
  {
   "cell_type": "code",
   "execution_count": 5,
   "id": "7ee12f09",
   "metadata": {},
   "outputs": [
    {
     "name": "stdout",
     "output_type": "stream",
     "text": [
      "Python Technology\n"
     ]
    }
   ],
   "source": [
    "print(\"Python\" + \" Technology\")"
   ]
  },
  {
   "cell_type": "code",
   "execution_count": 3,
   "id": "6887dd4f",
   "metadata": {},
   "outputs": [
    {
     "ename": "TypeError",
     "evalue": "can only concatenate str (not \"float\") to str",
     "output_type": "error",
     "traceback": [
      "\u001b[1;31m---------------------------------------------------------------------------\u001b[0m",
      "\u001b[1;31mTypeError\u001b[0m                                 Traceback (most recent call last)",
      "Cell \u001b[1;32mIn[3], line 1\u001b[0m\n\u001b[1;32m----> 1\u001b[0m \u001b[38;5;28mprint\u001b[39m(\u001b[38;5;124m\"\u001b[39m\u001b[38;5;124mPython \u001b[39m\u001b[38;5;124m\"\u001b[39m \u001b[38;5;241m+\u001b[39m \u001b[38;5;241m3.5\u001b[39m)\n",
      "\u001b[1;31mTypeError\u001b[0m: can only concatenate str (not \"float\") to str"
     ]
    }
   ],
   "source": [
    "print(\"Python \" + 3.5)"
   ]
  },
  {
   "cell_type": "code",
   "execution_count": 4,
   "id": "2af6a4d6",
   "metadata": {},
   "outputs": [
    {
     "name": "stdout",
     "output_type": "stream",
     "text": [
      "Python 3.5\n"
     ]
    }
   ],
   "source": [
    "print(\"Python \" + \"3.5\")"
   ]
  },
  {
   "cell_type": "code",
   "execution_count": 6,
   "id": "cabb489c",
   "metadata": {},
   "outputs": [
    {
     "name": "stdout",
     "output_type": "stream",
     "text": [
      "1234\n"
     ]
    }
   ],
   "source": [
    "print(\"12\"+\"34\")"
   ]
  },
  {
   "cell_type": "code",
   "execution_count": 8,
   "id": "94a930d5",
   "metadata": {},
   "outputs": [
    {
     "name": "stdout",
     "output_type": "stream",
     "text": [
      "Good Good Good Good Good \n"
     ]
    }
   ],
   "source": [
    "print(\"Good \" * 5)"
   ]
  },
  {
   "cell_type": "code",
   "execution_count": 12,
   "id": "77784d27",
   "metadata": {},
   "outputs": [
    {
     "name": "stdout",
     "output_type": "stream",
     "text": [
      " Good Good Good Good Good\n"
     ]
    }
   ],
   "source": [
    "print(5 * \" Good\")"
   ]
  },
  {
   "cell_type": "code",
   "execution_count": 13,
   "id": "121877c7",
   "metadata": {},
   "outputs": [
    {
     "ename": "TypeError",
     "evalue": "can't multiply sequence by non-int of type 'str'",
     "output_type": "error",
     "traceback": [
      "\u001b[1;31m---------------------------------------------------------------------------\u001b[0m",
      "\u001b[1;31mTypeError\u001b[0m                                 Traceback (most recent call last)",
      "Cell \u001b[1;32mIn[13], line 1\u001b[0m\n\u001b[1;32m----> 1\u001b[0m \u001b[38;5;28mprint\u001b[39m(\u001b[38;5;124m\"\u001b[39m\u001b[38;5;124mGood\u001b[39m\u001b[38;5;124m\"\u001b[39m\u001b[38;5;241m*\u001b[39m\u001b[38;5;124m\"\u001b[39m\u001b[38;5;124m5\u001b[39m\u001b[38;5;124m\"\u001b[39m)\n",
      "\u001b[1;31mTypeError\u001b[0m: can't multiply sequence by non-int of type 'str'"
     ]
    }
   ],
   "source": [
    "print(\"Good\"*\"5\")"
   ]
  },
  {
   "cell_type": "code",
   "execution_count": 14,
   "id": "5e4a1cac",
   "metadata": {},
   "outputs": [
    {
     "ename": "TypeError",
     "evalue": "can't multiply sequence by non-int of type 'float'",
     "output_type": "error",
     "traceback": [
      "\u001b[1;31m---------------------------------------------------------------------------\u001b[0m",
      "\u001b[1;31mTypeError\u001b[0m                                 Traceback (most recent call last)",
      "Cell \u001b[1;32mIn[14], line 1\u001b[0m\n\u001b[1;32m----> 1\u001b[0m \u001b[38;5;28mprint\u001b[39m(\u001b[38;5;124m\"\u001b[39m\u001b[38;5;124mGood \u001b[39m\u001b[38;5;124m\"\u001b[39m \u001b[38;5;241m*\u001b[39m \u001b[38;5;241m5.0\u001b[39m)\n",
      "\u001b[1;31mTypeError\u001b[0m: can't multiply sequence by non-int of type 'float'"
     ]
    }
   ],
   "source": [
    "print(\"Good \" * 5.0)"
   ]
  },
  {
   "cell_type": "code",
   "execution_count": 15,
   "id": "e54636c6",
   "metadata": {},
   "outputs": [],
   "source": [
    "str = \"Python is Easy!!!!\""
   ]
  },
  {
   "cell_type": "code",
   "execution_count": 16,
   "id": "b6f0d9d5",
   "metadata": {},
   "outputs": [
    {
     "name": "stdout",
     "output_type": "stream",
     "text": [
      "Python is Easy!!!!\n"
     ]
    }
   ],
   "source": [
    "print(str)"
   ]
  },
  {
   "cell_type": "code",
   "execution_count": 17,
   "id": "22d52172",
   "metadata": {},
   "outputs": [
    {
     "name": "stdout",
     "output_type": "stream",
     "text": [
      "P\n"
     ]
    }
   ],
   "source": [
    "print(str[0])"
   ]
  },
  {
   "cell_type": "code",
   "execution_count": 28,
   "id": "df26e885",
   "metadata": {},
   "outputs": [
    {
     "name": "stdout",
     "output_type": "stream",
     "text": [
      "!\n"
     ]
    }
   ],
   "source": [
    "print(str[-1])"
   ]
  },
  {
   "cell_type": "code",
   "execution_count": 29,
   "id": "f35467f1",
   "metadata": {},
   "outputs": [
    {
     "name": "stdout",
     "output_type": "stream",
     "text": [
      "Pytho\n"
     ]
    }
   ],
   "source": [
    "print(str[:5])"
   ]
  },
  {
   "cell_type": "code",
   "execution_count": 30,
   "id": "ae174923",
   "metadata": {},
   "outputs": [
    {
     "name": "stdout",
     "output_type": "stream",
     "text": [
      "hon is\n"
     ]
    }
   ],
   "source": [
    "print(str[3:9])"
   ]
  },
  {
   "cell_type": "code",
   "execution_count": 31,
   "id": "5100ac1a",
   "metadata": {},
   "outputs": [
    {
     "name": "stdout",
     "output_type": "stream",
     "text": [
      "on is Easy!!!!\n"
     ]
    }
   ],
   "source": [
    "print(str[4:])"
   ]
  },
  {
   "cell_type": "code",
   "execution_count": 32,
   "id": "a92e35f2",
   "metadata": {},
   "outputs": [
    {
     "name": "stdout",
     "output_type": "stream",
     "text": [
      "What Is your name?\n"
     ]
    }
   ],
   "source": [
    "print(\"What's Is your name?\")"
   ]
  },
  {
   "cell_type": "code",
   "execution_count": 38,
   "id": "9325e9f7",
   "metadata": {},
   "outputs": [
    {
     "name": "stdout",
     "output_type": "stream",
     "text": [
      "What's Is your name?\n"
     ]
    }
   ],
   "source": [
    "print('What\\'s Is your name?')      #\"\\\" is Escape Sequence"
   ]
  },
  {
   "cell_type": "code",
   "execution_count": 41,
   "id": "b30e0036",
   "metadata": {},
   "outputs": [
    {
     "name": "stdout",
     "output_type": "stream",
     "text": [
      "the boy replies \n",
      "\"My name is Aditya\"\n"
     ]
    }
   ],
   "source": [
    "print(\"the boy replies \\n\\\"My name is Aditya\\\"\")"
   ]
  },
  {
   "cell_type": "code",
   "execution_count": 42,
   "id": "e349caf3",
   "metadata": {},
   "outputs": [
    {
     "name": "stdout",
     "output_type": "stream",
     "text": [
      "the boy replies \t\"My name is Aditya\"\n"
     ]
    }
   ],
   "source": [
    "print(\"the boy replies \\t\\\"My name is Aditya\\\"\")"
   ]
  },
  {
   "cell_type": "code",
   "execution_count": 44,
   "id": "c80a82f1",
   "metadata": {},
   "outputs": [
    {
     "name": "stdout",
     "output_type": "stream",
     "text": [
      "the boy replies \\ My name is Aditya\n"
     ]
    }
   ],
   "source": [
    "print(\"the boy replies \\ My name is Aditya\")"
   ]
  },
  {
   "cell_type": "code",
   "execution_count": 45,
   "id": "9b0c63f0",
   "metadata": {},
   "outputs": [
    {
     "name": "stdout",
     "output_type": "stream",
     "text": [
      "\\\n"
     ]
    }
   ],
   "source": [
    "print(\"\\\\\")"
   ]
  },
  {
   "cell_type": "code",
   "execution_count": 47,
   "id": "4aba46d5",
   "metadata": {},
   "outputs": [
    {
     "name": "stdout",
     "output_type": "stream",
     "text": [
      "'\n"
     ]
    }
   ],
   "source": [
    "print(\"\\'\")"
   ]
  },
  {
   "cell_type": "code",
   "execution_count": 48,
   "id": "8929ba14",
   "metadata": {},
   "outputs": [
    {
     "name": "stdout",
     "output_type": "stream",
     "text": [
      "\"\n"
     ]
    }
   ],
   "source": [
    "print(\"\\\"\")"
   ]
  },
  {
   "cell_type": "code",
   "execution_count": 49,
   "id": "1643bb34",
   "metadata": {},
   "outputs": [
    {
     "name": "stdout",
     "output_type": "stream",
     "text": [
      "Hello \n",
      " World\n"
     ]
    }
   ],
   "source": [
    "print(\"Hello \\n World\")"
   ]
  },
  {
   "cell_type": "code",
   "execution_count": 50,
   "id": "d26ca171",
   "metadata": {},
   "outputs": [
    {
     "name": "stdout",
     "output_type": "stream",
     "text": [
      "Hello \t World\n"
     ]
    }
   ],
   "source": [
    "print(\"Hello \\t World\")"
   ]
  },
  {
   "cell_type": "code",
   "execution_count": 56,
   "id": "5666a1c2",
   "metadata": {},
   "outputs": [
    {
     "name": "stdout",
     "output_type": "stream",
     "text": [
      ".\n"
     ]
    }
   ],
   "source": [
    "print(\"\\056\")"
   ]
  },
  {
   "cell_type": "code",
   "execution_count": 52,
   "id": "687fae27",
   "metadata": {},
   "outputs": [
    {
     "name": "stdout",
     "output_type": "stream",
     "text": [
      ".\n"
     ]
    }
   ],
   "source": [
    "print(\"\\x2E\")"
   ]
  },
  {
   "cell_type": "code",
   "execution_count": 55,
   "id": "92fa7baf",
   "metadata": {},
   "outputs": [
    {
     "name": "stdout",
     "output_type": "stream",
     "text": [
      "\n"
     ]
    }
   ],
   "source": [
    "print(\"\\x87\")"
   ]
  },
  {
   "cell_type": "markdown",
   "id": "f603a42b",
   "metadata": {},
   "source": [
    "# Number System Conversion\n"
   ]
  },
  {
   "cell_type": "code",
   "execution_count": 58,
   "id": "2c3aa1ad",
   "metadata": {},
   "outputs": [
    {
     "name": "stdout",
     "output_type": "stream",
     "text": [
      "0o63\n"
     ]
    }
   ],
   "source": [
    "print(oct(51))"
   ]
  },
  {
   "cell_type": "code",
   "execution_count": 59,
   "id": "4fb9c168",
   "metadata": {},
   "outputs": [
    {
     "name": "stdout",
     "output_type": "stream",
     "text": [
      "27\n"
     ]
    }
   ],
   "source": [
    "print(int(\"11011\",2))"
   ]
  },
  {
   "cell_type": "code",
   "execution_count": 60,
   "id": "56eec2bc",
   "metadata": {},
   "outputs": [
    {
     "name": "stdout",
     "output_type": "stream",
     "text": [
      "240\n"
     ]
    }
   ],
   "source": [
    "print(int(\"360\",8))"
   ]
  },
  {
   "cell_type": "code",
   "execution_count": 61,
   "id": "b8194f7c",
   "metadata": {},
   "outputs": [
    {
     "name": "stdout",
     "output_type": "stream",
     "text": [
      "0x33\n"
     ]
    }
   ],
   "source": [
    "print(hex(51))"
   ]
  },
  {
   "cell_type": "code",
   "execution_count": 62,
   "id": "805833ab",
   "metadata": {},
   "outputs": [
    {
     "name": "stdout",
     "output_type": "stream",
     "text": [
      "51\n"
     ]
    }
   ],
   "source": [
    "print(int(\"33\",16))"
   ]
  },
  {
   "cell_type": "markdown",
   "id": "5f2c048c",
   "metadata": {},
   "source": [
    "# Betwise Operator"
   ]
  },
  {
   "cell_type": "code",
   "execution_count": 63,
   "id": "6b1a053d",
   "metadata": {},
   "outputs": [
    {
     "name": "stdout",
     "output_type": "stream",
     "text": [
      "14\n"
     ]
    }
   ],
   "source": [
    "x=10\n",
    "y=4\n",
    "\n",
    "print(x|y)     #OR"
   ]
  },
  {
   "cell_type": "code",
   "execution_count": 64,
   "id": "e698dc76",
   "metadata": {},
   "outputs": [
    {
     "name": "stdout",
     "output_type": "stream",
     "text": [
      "0\n"
     ]
    }
   ],
   "source": [
    "print(x&y)     #AND"
   ]
  },
  {
   "cell_type": "code",
   "execution_count": 65,
   "id": "1fb5b9e7",
   "metadata": {},
   "outputs": [
    {
     "name": "stdout",
     "output_type": "stream",
     "text": [
      "-11\n",
      "-5\n"
     ]
    }
   ],
   "source": [
    "print(~x)\n",
    "print(~y)      #NOt"
   ]
  },
  {
   "cell_type": "code",
   "execution_count": 66,
   "id": "96248c61",
   "metadata": {},
   "outputs": [
    {
     "name": "stdout",
     "output_type": "stream",
     "text": [
      "14\n"
     ]
    }
   ],
   "source": [
    "print(x^y)       #XOR"
   ]
  },
  {
   "cell_type": "code",
   "execution_count": 67,
   "id": "18323786",
   "metadata": {},
   "outputs": [
    {
     "name": "stdout",
     "output_type": "stream",
     "text": [
      "2\n"
     ]
    }
   ],
   "source": [
    "print(x>>2)      #Right Shiht"
   ]
  },
  {
   "cell_type": "code",
   "execution_count": 69,
   "id": "3d229f7a",
   "metadata": {},
   "outputs": [
    {
     "name": "stdout",
     "output_type": "stream",
     "text": [
      "80\n"
     ]
    }
   ],
   "source": [
    "print(x<<3)        #Left Shift"
   ]
  },
  {
   "cell_type": "markdown",
   "id": "a2eac6d6",
   "metadata": {},
   "source": [
    "# Idendity Operator\n",
    "is \n",
    "\n",
    "is not"
   ]
  },
  {
   "cell_type": "code",
   "execution_count": 70,
   "id": "31052a36",
   "metadata": {},
   "outputs": [],
   "source": [
    "x = [1,2]\n",
    "y = [1,2]"
   ]
  },
  {
   "cell_type": "code",
   "execution_count": 71,
   "id": "c2d73d49",
   "metadata": {},
   "outputs": [
    {
     "name": "stdout",
     "output_type": "stream",
     "text": [
      "x is y False\n"
     ]
    }
   ],
   "source": [
    "print(\"x is y\",x is y)"
   ]
  },
  {
   "cell_type": "code",
   "execution_count": 73,
   "id": "d0c07718",
   "metadata": {},
   "outputs": [
    {
     "name": "stdout",
     "output_type": "stream",
     "text": [
      "True\n"
     ]
    }
   ],
   "source": [
    "z=x\n",
    "print(x is z)"
   ]
  },
  {
   "cell_type": "code",
   "execution_count": 74,
   "id": "dc227f3d",
   "metadata": {},
   "outputs": [],
   "source": [
    "x1 = 5\n",
    "y1 = 5\n",
    "x2=\"hello\"\n",
    "y2=\"hello\"\n",
    "x3=[1,2,3]\n",
    "y3=[1,2,3]"
   ]
  },
  {
   "cell_type": "code",
   "execution_count": 76,
   "id": "a4910906",
   "metadata": {},
   "outputs": [
    {
     "name": "stdout",
     "output_type": "stream",
     "text": [
      "False\n"
     ]
    }
   ],
   "source": [
    "print(x1 is not y1)"
   ]
  },
  {
   "cell_type": "code",
   "execution_count": 77,
   "id": "bf96694e",
   "metadata": {},
   "outputs": [
    {
     "name": "stdout",
     "output_type": "stream",
     "text": [
      "True\n"
     ]
    }
   ],
   "source": [
    "print(x2 is y2)"
   ]
  },
  {
   "cell_type": "code",
   "execution_count": 78,
   "id": "a1c14741",
   "metadata": {},
   "outputs": [
    {
     "name": "stdout",
     "output_type": "stream",
     "text": [
      "False\n"
     ]
    }
   ],
   "source": [
    "print(x3 is y3)"
   ]
  },
  {
   "cell_type": "markdown",
   "id": "12e86d41",
   "metadata": {},
   "source": [
    "\n",
    "# Membership Operator\n",
    "\n",
    "in \n",
    "\n",
    "not in"
   ]
  },
  {
   "cell_type": "code",
   "execution_count": 93,
   "id": "6b91c8c4",
   "metadata": {},
   "outputs": [],
   "source": [
    "message = \"HELLO WORLD\"\n",
    "dict ={1:'a',2:'b'}"
   ]
  },
  {
   "cell_type": "code",
   "execution_count": 94,
   "id": "4068a9df",
   "metadata": {},
   "outputs": [
    {
     "name": "stdout",
     "output_type": "stream",
     "text": [
      "True\n"
     ]
    }
   ],
   "source": [
    "#check if H is present in message string\n",
    "\n",
    "print(\"H\" in message)"
   ]
  },
  {
   "cell_type": "code",
   "execution_count": 95,
   "id": "b64a9a09",
   "metadata": {},
   "outputs": [
    {
     "name": "stdout",
     "output_type": "stream",
     "text": [
      "True\n"
     ]
    }
   ],
   "source": [
    "#check if HELLO is present in message string\n",
    "\n",
    "print(\"HELLO\" in message)"
   ]
  },
  {
   "cell_type": "code",
   "execution_count": 96,
   "id": "fe3288ee",
   "metadata": {},
   "outputs": [
    {
     "name": "stdout",
     "output_type": "stream",
     "text": [
      "False\n"
     ]
    }
   ],
   "source": [
    "#check if HELLO is present in message string\n",
    "\n",
    "print(\"HELLO\" not in message)"
   ]
  },
  {
   "cell_type": "code",
   "execution_count": 97,
   "id": "116ac6da",
   "metadata": {},
   "outputs": [
    {
     "name": "stdout",
     "output_type": "stream",
     "text": [
      "True\n"
     ]
    }
   ],
   "source": [
    "print(1 in dict)"
   ]
  },
  {
   "cell_type": "code",
   "execution_count": 101,
   "id": "b74e4bb5",
   "metadata": {},
   "outputs": [
    {
     "name": "stdout",
     "output_type": "stream",
     "text": [
      "False\n",
      "False\n"
     ]
    },
    {
     "name": "stderr",
     "output_type": "stream",
     "text": [
      "<>:2: SyntaxWarning: \"is\" with a literal. Did you mean \"==\"?\n",
      "<>:2: SyntaxWarning: \"is\" with a literal. Did you mean \"==\"?\n",
      "C:\\Users\\DC\\AppData\\Local\\Temp\\ipykernel_15428\\1410418738.py:2: SyntaxWarning: \"is\" with a literal. Did you mean \"==\"?\n",
      "  print('a' is dict)\n"
     ]
    }
   ],
   "source": [
    "print('a' in dict)"
   ]
  },
  {
   "cell_type": "code",
   "execution_count": 103,
   "id": "86a292d0",
   "metadata": {},
   "outputs": [
    {
     "name": "stdout",
     "output_type": "stream",
     "text": [
      "10\n"
     ]
    }
   ],
   "source": [
    "# Ternary Operator\n",
    "#SYntax ==>  [on true] if exprassion else [on false]\n",
    "\n",
    "a,b= 10,20\n",
    "\n",
    "min = a if a<b else b\n",
    "print(min)"
   ]
  },
  {
   "cell_type": "code",
   "execution_count": 106,
   "id": "2216fa98",
   "metadata": {},
   "outputs": [
    {
     "name": "stdout",
     "output_type": "stream",
     "text": [
      "Positive\n"
     ]
    }
   ],
   "source": [
    "x = 5\n",
    "\n",
    "result = \"Positive\" if x>0 else \"Negative\"\n",
    "print(result)"
   ]
  },
  {
   "cell_type": "code",
   "execution_count": 107,
   "id": "288e8e08",
   "metadata": {},
   "outputs": [
    {
     "name": "stdout",
     "output_type": "stream",
     "text": [
      "Negative\n"
     ]
    }
   ],
   "source": [
    "x = -5\n",
    "\n",
    "result = \"Positive\" if x>0 else \"Negative\"\n",
    "print(result)"
   ]
  },
  {
   "cell_type": "markdown",
   "id": "0ff4f7af",
   "metadata": {},
   "source": [
    "# Precedence And Associavity Operator"
   ]
  },
  {
   "cell_type": "code",
   "execution_count": 108,
   "id": "f53b5f7d",
   "metadata": {},
   "outputs": [],
   "source": [
    "#HW \n",
    "#construct an If else block which runs if when lunch either fruit or sandwich and only if money >= 2\n"
   ]
  },
  {
   "cell_type": "code",
   "execution_count": 109,
   "id": "da958e9d",
   "metadata": {},
   "outputs": [
    {
     "name": "stdout",
     "output_type": "stream",
     "text": [
      "610\n"
     ]
    }
   ],
   "source": [
    "print(10+20*30)"
   ]
  },
  {
   "cell_type": "code",
   "execution_count": 111,
   "id": "53fd8a6a",
   "metadata": {},
   "outputs": [
    {
     "name": "stdout",
     "output_type": "stream",
     "text": [
      "180.0\n"
     ]
    }
   ],
   "source": [
    "print((40+20)*30/10)"
   ]
  },
  {
   "cell_type": "code",
   "execution_count": 112,
   "id": "91e16ad0",
   "metadata": {},
   "outputs": [
    {
     "name": "stdout",
     "output_type": "stream",
     "text": [
      "100.0\n"
     ]
    }
   ],
   "source": [
    "print(40+(20*30)/10)"
   ]
  },
  {
   "cell_type": "code",
   "execution_count": 114,
   "id": "8af69031",
   "metadata": {},
   "outputs": [
    {
     "name": "stdout",
     "output_type": "stream",
     "text": [
      "True\n"
     ]
    }
   ],
   "source": [
    "print(False == False or True)"
   ]
  },
  {
   "cell_type": "code",
   "execution_count": 115,
   "id": "4fe07b5c",
   "metadata": {},
   "outputs": [
    {
     "data": {
      "text/plain": [
       "False"
      ]
     },
     "execution_count": 115,
     "metadata": {},
     "output_type": "execute_result"
    }
   ],
   "source": [
    "False == (False or True)"
   ]
  },
  {
   "cell_type": "code",
   "execution_count": 116,
   "id": "db1eed7a",
   "metadata": {},
   "outputs": [
    {
     "name": "stdout",
     "output_type": "stream",
     "text": [
      "100.0\n"
     ]
    }
   ],
   "source": [
    "print(100/10*10)"
   ]
  },
  {
   "cell_type": "code",
   "execution_count": null,
   "id": "5ccbbf1c",
   "metadata": {},
   "outputs": [],
   "source": []
  }
 ],
 "metadata": {
  "kernelspec": {
   "display_name": "Python 3 (ipykernel)",
   "language": "python",
   "name": "python3"
  },
  "language_info": {
   "codemirror_mode": {
    "name": "ipython",
    "version": 3
   },
   "file_extension": ".py",
   "mimetype": "text/x-python",
   "name": "python",
   "nbconvert_exporter": "python",
   "pygments_lexer": "ipython3",
   "version": "3.11.4"
  }
 },
 "nbformat": 4,
 "nbformat_minor": 5
}
