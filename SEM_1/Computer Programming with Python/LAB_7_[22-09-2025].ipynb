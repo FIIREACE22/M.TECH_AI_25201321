{
 "cells": [
  {
   "cell_type": "code",
   "execution_count": 3,
   "id": "dfe31f39",
   "metadata": {},
   "outputs": [
    {
     "name": "stdout",
     "output_type": "stream",
     "text": [
      "Enter x--> 8\n",
      "Reminder-->  2\n"
     ]
    }
   ],
   "source": [
    "#WAP to return reminder\n",
    "def reminder(x,y=4):\n",
    "    if(x<0 or y<=0):\n",
    "        return -1\n",
    "    else:\n",
    "        return x % y\n",
    "x=int(input(\"Enter x--> \"))\n",
    "#y=int(input(\"Enter y--> \"))\n",
    "print(\"Reminder--> \",reminder(x,y))"
   ]
  },
  {
   "cell_type": "code",
   "execution_count": 12,
   "id": "bce32378",
   "metadata": {},
   "outputs": [
    {
     "name": "stdout",
     "output_type": "stream",
     "text": [
      "[1]\n",
      "[1, 1]\n",
      "[1, 2, 1]\n",
      "[1, 3, 3, 1]\n",
      "[1, 4, 6, 4, 1]\n",
      "[1, 5, 10, 10, 5, 1]\n",
      "[1, 6, 15, 20, 15, 6, 1]\n",
      "[1, 7, 21, 35, 35, 21, 7, 1]\n",
      "[1, 8, 28, 56, 70, 56, 28, 8, 1]\n",
      "[1, 9, 36, 84, 126, 126, 84, 36, 9, 1]\n"
     ]
    }
   ],
   "source": [
    "#WAP to print first n raw of pascals triangel\n",
    "def pascal(n):\n",
    "    triangle = []\n",
    "    for i in range (n):\n",
    "        raw = [1]*(i+1)\n",
    "        for j in range (1,i):\n",
    "            raw[j] = triangle[i-1][j-1]+triangle[i-1][j]\n",
    "        triangle.append(raw)\n",
    "        \n",
    "    return triangle\n",
    "l = pascal(10)\n",
    "for raw in l:\n",
    "    print(raw)"
   ]
  },
  {
   "cell_type": "code",
   "execution_count": 24,
   "id": "3849afc0",
   "metadata": {},
   "outputs": [
    {
     "name": "stdout",
     "output_type": "stream",
     "text": [
      "Enter x--> 54\n",
      "120\n"
     ]
    }
   ],
   "source": [
    "#WAP sumPdivisor to print proper diviser\n",
    "def sumPdivisor(n):\n",
    "    divisor = []\n",
    "    for i in range(1,n+1):\n",
    "        if n%i == 0:\n",
    "            divisor.append(i)\n",
    "    return sum(divisor)\n",
    "\n",
    "x=int(input(\"Enter x--> \"))\n",
    "sumPdivisors = sumPdivisor(x)\n",
    "print(sumPdivisors)"
   ]
  },
  {
   "cell_type": "code",
   "execution_count": 17,
   "id": "bb9c5ecb",
   "metadata": {},
   "outputs": [
    {
     "name": "stdout",
     "output_type": "stream",
     "text": [
      "Enter Principle Amount--> 50000\n",
      "Enter no. of years--> 8\n",
      "Enter interest rate--> 12\n",
      "Compound Intrest-->  76243945.3125\n"
     ]
    }
   ],
   "source": [
    "#WAP to find a compound interest\n",
    "def Cintrest(P,n,r):\n",
    "    A = p * (1 + (r/n))**n\n",
    "    return A - p\n",
    "\n",
    "p=int(input(\"Enter Principle Amount--> \"))\n",
    "n=int(input(\"Enter no. of years--> \"))\n",
    "r=int(input(\"Enter interest rate--> \"))\n",
    "Compund_intrest = Cintrest(p,n,r)\n",
    "print(\"Compound Intrest--> \",Compund_intrest)"
   ]
  },
  {
   "cell_type": "code",
   "execution_count": 23,
   "id": "dc9a61b9",
   "metadata": {},
   "outputs": [
    {
     "name": "stdout",
     "output_type": "stream",
     "text": [
      "Enter a ==>45\n",
      "Enter b ==>9\n",
      "Enter + ,-,*,/ and for exit enter e==> *\n",
      "Answer = 405.0\n",
      "Enter a ==>89\n",
      "Enter b ==>5\n",
      "Enter + ,-,*,/ and for exit enter e==> e\n"
     ]
    }
   ],
   "source": [
    "#WA menu driven program for calculator\n",
    "def add(a,b):\n",
    "    return a+b\n",
    "def sub(a,b):\n",
    "    return a-b\n",
    "def mul(a,b):\n",
    "    return a*b\n",
    "def div(a,b):\n",
    "    return a/b\n",
    "\n",
    "while(1):\n",
    "    a=float(input(\"Enter a ==>\"))\n",
    "    b=float(input(\"Enter b ==>\"))\n",
    "    c = input(\"Enter + ,-,*,/ and for exit enter e==> \")\n",
    "    ans = float(0)\n",
    "    match(c):\n",
    "        case '+' :print(\"Answer =\",add(a,b))\n",
    "        \n",
    "        case \"-\" :print(\"Answer =\",sub(a,b))\n",
    "        \n",
    "        case \"*\" :print(\"Answer =\",mul(a,b))\n",
    "        \n",
    "        case \"/\" :print(\"Answer =\",div(a,b))\n",
    "        \n",
    "        case \"e\" : break        \n",
    "        \n"
   ]
  },
  {
   "cell_type": "code",
   "execution_count": null,
   "id": "0bc8072d",
   "metadata": {},
   "outputs": [],
   "source": []
  }
 ],
 "metadata": {
  "kernelspec": {
   "display_name": "Python 3 (ipykernel)",
   "language": "python",
   "name": "python3"
  },
  "language_info": {
   "codemirror_mode": {
    "name": "ipython",
    "version": 3
   },
   "file_extension": ".py",
   "mimetype": "text/x-python",
   "name": "python",
   "nbconvert_exporter": "python",
   "pygments_lexer": "ipython3",
   "version": "3.11.4"
  }
 },
 "nbformat": 4,
 "nbformat_minor": 5
}
