{
 "cells": [
  {
   "cell_type": "code",
   "execution_count": 2,
   "id": "269076fa",
   "metadata": {},
   "outputs": [
    {
     "name": "stdout",
     "output_type": "stream",
     "text": [
      "Enter A Number --> -8\n",
      "Entered number is negative...\n"
     ]
    }
   ],
   "source": [
    "#Write a program to check whether a given number is positive, negative, or zero.\n",
    "\n",
    "n = int(input(\"Enter A Number --> \"))\n",
    "if n==0 :\n",
    "    print(\"number is zero..\")\n",
    "elif n>0:\n",
    "    print(\"Number is positive...\")\n",
    "else:\n",
    "    print(\"Entered number is negative...\")"
   ]
  },
  {
   "cell_type": "code",
   "execution_count": 3,
   "id": "3730e1ef",
   "metadata": {},
   "outputs": [
    {
     "name": "stdout",
     "output_type": "stream",
     "text": [
      "Enter A character --> a\n",
      "Entered character is vowel\n"
     ]
    }
   ],
   "source": [
    "#WAP to check wether a character is vowel or not\n",
    "vowel = ['a','e','i','o','u','A','E','I','O','U']\n",
    "ch = input(\"Enter A character --> \")\n",
    "if ch in vowel:\n",
    "    print(\"Entered character is vowel\")\n",
    "else:\n",
    "    print(\"Entered character is not vowel\")"
   ]
  },
  {
   "cell_type": "code",
   "execution_count": 9,
   "id": "9821b693",
   "metadata": {},
   "outputs": [
    {
     "name": "stdout",
     "output_type": "stream",
     "text": [
      "Enter A input --> #\n",
      "It is special character\n"
     ]
    }
   ],
   "source": [
    "#WAP program to check vether input is number or character if it is character then check wether it is upper case or lower case\n",
    "ch =input(\"Enter A input --> \")\n",
    "if ch.isalpha():\n",
    "    print(\"It is aplphabet..\")\n",
    "    if ch.isupper():\n",
    "        print(\"it is upper case\")\n",
    "    elif ch.islower():\n",
    "        print(\"It is lower case\")\n",
    "elif ch.isdigit() :\n",
    "    print(\"It is Number...\")\n",
    "else :\n",
    "    print(\"It is special character\")\n"
   ]
  },
  {
   "cell_type": "code",
   "execution_count": 11,
   "id": "21255935",
   "metadata": {},
   "outputs": [
    {
     "name": "stdout",
     "output_type": "stream",
     "text": [
      "Enter A Number --> 5\n",
      "Enter A Number --> 8\n",
      "Enter A Number --> 9\n",
      "z is the largest\n"
     ]
    }
   ],
   "source": [
    "#WAP to find largest of three number using nested if\n",
    "x = int(input(\"Enter A Number --> \"))\n",
    "y = int(input(\"Enter A Number --> \"))\n",
    "z = int(input(\"Enter A Number --> \"))\n",
    "\n",
    "if x > y :\n",
    "    if x>z:\n",
    "        print(\"x is the largest \")\n",
    "    else :\n",
    "        print(\"z is the largest..\")\n",
    "else :\n",
    "    if y > z:\n",
    "        print(\"y is largest\")\n",
    "    else:\n",
    "        print(\"z is the largest\")\n",
    "    "
   ]
  },
  {
   "cell_type": "code",
   "execution_count": 16,
   "id": "6fc9730b",
   "metadata": {},
   "outputs": [
    {
     "name": "stdout",
     "output_type": "stream",
     "text": [
      "Enter A Number --> 12\n",
      "Enter A Number --> 65\n",
      "Enter A Number --> 10\n",
      "ascending--> [10, 12, 65]\n",
      "descending--> [65, 12, 10]\n"
     ]
    }
   ],
   "source": [
    "#WAP to sort three numbers in ascending and decending\n",
    "x = int(input(\"Enter A Number --> \"))\n",
    "y = int(input(\"Enter A Number --> \"))\n",
    "z = int(input(\"Enter A Number --> \"))\n",
    "\n",
    "if x > y :\n",
    "    if x>z:\n",
    "        max1=x\n",
    "        if y>z:\n",
    "            mid1=y\n",
    "            min1=z\n",
    "        else:\n",
    "            mid1=z\n",
    "            min1=y\n",
    "    else :\n",
    "        max1 =z\n",
    "        if x>y:\n",
    "            mid1=x\n",
    "            min1=y\n",
    "        else:\n",
    "            mid1=y\n",
    "            min1=x\n",
    "else :\n",
    "    if y > z:\n",
    "        max1 = y\n",
    "        if x>z:\n",
    "            mid1 = x\n",
    "            min1 = z\n",
    "        else:\n",
    "            mid1 = z\n",
    "            min1= x\n",
    "        \n",
    "    else:\n",
    "        max1 = z\n",
    "        if x>y:\n",
    "            mid1=x\n",
    "            min1=y\n",
    "        else:\n",
    "            mid1=y\n",
    "            min1=x\n",
    "ascending=[min1,mid1,max1]\n",
    "descending=[max1,mid1,min1]\n",
    "print(\"ascending-->\",ascending)\n",
    "print(\"descending-->\",descending)"
   ]
  },
  {
   "cell_type": "code",
   "execution_count": 17,
   "id": "a8c0c0f6",
   "metadata": {},
   "outputs": [
    {
     "name": "stdout",
     "output_type": "stream",
     "text": [
      "Enter A Number --> -9\n",
      "Absolute value ==  9\n"
     ]
    }
   ],
   "source": [
    "##WAP to get a absolute value\n",
    "n = int(input(\"Enter A Number --> \"))\n",
    "if n<0 :\n",
    "    n=-n\n",
    "print(\"Absolute value == \",n)"
   ]
  },
  {
   "cell_type": "code",
   "execution_count": 18,
   "id": "61c92c28",
   "metadata": {},
   "outputs": [
    {
     "name": "stdout",
     "output_type": "stream",
     "text": [
      "sum==>  55\n"
     ]
    }
   ],
   "source": [
    "#sum of 10 numbers \n",
    "num = 1\n",
    "sum = 0\n",
    "while(num<=10):\n",
    "    sum+=num\n",
    "    num+=1\n",
    "print(\"sum==> \",sum)"
   ]
  },
  {
   "cell_type": "code",
   "execution_count": 27,
   "id": "4da94985",
   "metadata": {},
   "outputs": [
    {
     "name": "stdout",
     "output_type": "stream",
     "text": [
      "Enter A Number --> 153\n",
      "153 is armstrong number...\n"
     ]
    }
   ],
   "source": [
    "#WAP to check if number is armstrong number\n",
    "n = int(input(\"Enter A Number --> \"))\n",
    "s=n\n",
    "anumber = 0\n",
    "while(n>0):\n",
    "    d=n%10\n",
    "    n=int(n/10)\n",
    "    anumber = anumber + d**3\n",
    "if s == anumber :\n",
    "    print(\"{} is armstrong number...\".format(s))\n",
    "else:\n",
    "    print(\"{} is not an armstrong number...\".format(s))"
   ]
  },
  {
   "cell_type": "code",
   "execution_count": 39,
   "id": "c8e27448",
   "metadata": {},
   "outputs": [
    {
     "name": "stdout",
     "output_type": "stream",
     "text": [
      "Enter A Number --> 87\n",
      "Binary of 87 is 1010111\n"
     ]
    }
   ],
   "source": [
    "#WAP to enter a decimal number calculate and display the binary number\n",
    "n = int(input(\"Enter A Number --> \"))\n",
    "s=n\n",
    "sum1=0\n",
    "i=0\n",
    "while(n>0):\n",
    "    d=n%2\n",
    "    n=n//2\n",
    "    sum1 = sum1 + (d*(10**i))\n",
    "    i+=1\n",
    "print(\"Binary of {} is {}\".format(s,sum1))"
   ]
  },
  {
   "cell_type": "code",
   "execution_count": 38,
   "id": "264422e1",
   "metadata": {},
   "outputs": [
    {
     "name": "stdout",
     "output_type": "stream",
     "text": [
      "Enter A Number --> 5698\n",
      "reverse of 5698 is 8965\n"
     ]
    }
   ],
   "source": [
    "#write a program to reverse a number\n",
    "n = int(input(\"Enter A Number --> \"))\n",
    "s=n\n",
    "reverse = 0\n",
    "while(n>0):\n",
    "    d=n%10\n",
    "    n=int(n/10)\n",
    "    reverse = reverse*10 + d\n",
    "print(\"reverse of {} is {}\".format(s,reverse))"
   ]
  },
  {
   "cell_type": "code",
   "execution_count": 40,
   "id": "3ddbc911",
   "metadata": {},
   "outputs": [
    {
     "name": "stdout",
     "output_type": "stream",
     "text": [
      "Enter A Number --> 5\n",
      "factorial-->  120\n"
     ]
    }
   ],
   "source": [
    "#WAP to get factorial of a number \n",
    "n = int(input(\"Enter A Number --> \"))\n",
    "fact = 1\n",
    "for i in range(1,n+1):\n",
    "    fact = fact * i\n",
    "print(\"factorial--> \",fact )"
   ]
  },
  {
   "cell_type": "code",
   "execution_count": 42,
   "id": "1c2436a2",
   "metadata": {},
   "outputs": [
    {
     "name": "stdout",
     "output_type": "stream",
     "text": [
      "Enter A Number --> 6\n",
      "6 * 1 = 6\n",
      "6 * 2 = 12\n",
      "6 * 3 = 18\n",
      "6 * 4 = 24\n",
      "6 * 5 = 30\n",
      "6 * 6 = 36\n",
      "6 * 7 = 42\n",
      "6 * 8 = 48\n",
      "6 * 9 = 54\n",
      "6 * 10 = 60\n"
     ]
    }
   ],
   "source": [
    "#WAP to print multiplication table of n\n",
    "n = int(input(\"Enter A Number --> \"))\n",
    "for i in range(1,11):\n",
    "    print(\"{} * {} = {}\".format(n,i,n*i))"
   ]
  },
  {
   "cell_type": "code",
   "execution_count": 44,
   "id": "df70b5b7",
   "metadata": {},
   "outputs": [
    {
     "name": "stdout",
     "output_type": "stream",
     "text": [
      "1904\n",
      "1908\n",
      "1912\n",
      "1916\n",
      "1920\n",
      "1924\n",
      "1928\n",
      "1932\n",
      "1936\n",
      "1940\n",
      "1944\n",
      "1948\n",
      "1952\n",
      "1956\n",
      "1960\n",
      "1964\n",
      "1968\n",
      "1972\n",
      "1976\n",
      "1980\n",
      "1984\n",
      "1988\n",
      "1992\n",
      "1996\n",
      "2000\n",
      "2004\n",
      "2008\n",
      "2012\n",
      "2016\n",
      "2020\n",
      "2024\n",
      "2028\n",
      "2032\n",
      "2036\n",
      "2040\n",
      "2044\n",
      "2048\n",
      "2052\n",
      "2056\n",
      "2060\n",
      "2064\n",
      "2068\n",
      "2072\n",
      "2076\n",
      "2080\n",
      "2084\n",
      "2088\n",
      "2092\n",
      "2096\n"
     ]
    }
   ],
   "source": [
    "#WAP to print all leap year in range 1900 to 2101\n",
    "for i in range(1900,2101):\n",
    "    if (i % 400 == 0) or (i % 100 != 0 and i % 4 == 0):\n",
    "        print(i)"
   ]
  },
  {
   "cell_type": "code",
   "execution_count": null,
   "id": "0b603bb1",
   "metadata": {},
   "outputs": [],
   "source": []
  }
 ],
 "metadata": {
  "kernelspec": {
   "display_name": "Python 3 (ipykernel)",
   "language": "python",
   "name": "python3"
  },
  "language_info": {
   "codemirror_mode": {
    "name": "ipython",
    "version": 3
   },
   "file_extension": ".py",
   "mimetype": "text/x-python",
   "name": "python",
   "nbconvert_exporter": "python",
   "pygments_lexer": "ipython3",
   "version": "3.11.4"
  }
 },
 "nbformat": 4,
 "nbformat_minor": 5
}
