{
 "cells": [
  {
   "cell_type": "markdown",
   "id": "b9696308",
   "metadata": {},
   "source": [
    "# Types Of Loops\n",
    "\n",
    "1. Pre-test loop --> \n",
    "    if the condition is not satisfied the body of the loop will be not executed\n",
    "2. Post test loop --> \n",
    "    irrespective to cndition the body of the loop will execute minimum 1 time\n",
    "3. Counter Controlled Loop --> \n",
    "    number of loop executed is known in advance so it is a type of in definate loop\n",
    "4. Condition Controlled loop --> \n",
    "    In condition controll no. of times the loop is executed is not known in advance so it is a type of in definate loop"
   ]
  },
  {
   "cell_type": "code",
   "execution_count": 51,
   "id": "1ea5cbec",
   "metadata": {},
   "outputs": [
    {
     "name": "stdout",
     "output_type": "stream",
     "text": [
      "Enter no. of days 30 or 3130\n",
      "Sun  Mon  Tue  Wed  Thu  Fri  Sat\n",
      "---------------------------\n",
      "      1    2    3    4    5    \n",
      "6    7    8    9    10   11   12   \n",
      "13   14   15   16   17   18   19   \n",
      "20   21   22   23   24   25   26   \n",
      "27   28   29   30   "
     ]
    }
   ],
   "source": [
    "#WAP to generat ecalander of a amonth given the start day and number of day\n",
    "week_day =['Sunday','Monday','Tuesday','Wednesday','Thursday','Friday','Saturday']\n",
    "n=3\n",
    "start_day = week_day[n]\n",
    "day = int(input(\"Enter no. of days 30 or 31\"))\n",
    "print(\"Sun  Mon  Tue  Wed  Thu  Fri  Sat\")\n",
    "print(\"---------------------------\")\n",
    "print(\"  \"*(n),end=\"\")\n",
    "for i in range(1,day + 1):\n",
    "    print(f\"{i:<5}\",end=\"\")\n",
    "    if n%7==0:\n",
    "        print()\n",
    "    n+=1"
   ]
  },
  {
   "cell_type": "code",
   "execution_count": 52,
   "id": "9a468ccc",
   "metadata": {},
   "outputs": [
    {
     "name": "stdout",
     "output_type": "stream",
     "text": [
      "* * * * * * \n",
      "* * * * * * \n",
      "* * * * * * \n",
      "* * * * * * \n"
     ]
    }
   ],
   "source": [
    "for i in range(4):\n",
    "    for j in range(1,7):\n",
    "        print(\"*\",end=\" \")\n",
    "    print()"
   ]
  },
  {
   "cell_type": "code",
   "execution_count": 53,
   "id": "c0200dc9",
   "metadata": {},
   "outputs": [
    {
     "name": "stdout",
     "output_type": "stream",
     "text": [
      "* * * * * \n",
      "* * * * \n",
      "* * * \n",
      "* * \n",
      "* \n"
     ]
    }
   ],
   "source": [
    "for i in range(1,6):\n",
    "    for j in range(6 ,i,-1):\n",
    "        print(\"*\",end=\" \")\n",
    "    print()"
   ]
  },
  {
   "cell_type": "code",
   "execution_count": 54,
   "id": "5257b663",
   "metadata": {},
   "outputs": [
    {
     "name": "stdout",
     "output_type": "stream",
     "text": [
      "     1\n",
      "    12\n",
      "   123\n",
      "  1234\n",
      " 12345\n"
     ]
    }
   ],
   "source": [
    "for i in range(1,6):\n",
    "    for j in range (6,i,-1):\n",
    "        print(end=\" \")\n",
    "    for k in range(1,i+1):\n",
    "        print(k,end=\"\")\n",
    "    print()"
   ]
  },
  {
   "cell_type": "code",
   "execution_count": 65,
   "id": "44399711",
   "metadata": {},
   "outputs": [
    {
     "name": "stdout",
     "output_type": "stream",
     "text": [
      "     1\n",
      "    121\n",
      "   12321\n",
      "  1234321\n",
      " 123454321\n",
      "12345654321\n"
     ]
    }
   ],
   "source": [
    "n = 6\n",
    "for i in range(1,n+1):\n",
    "    for j in range (6,i,-1):\n",
    "        print(end=\" \")\n",
    "    for k in range(1,i+1):\n",
    "        print(k,end=\"\")\n",
    "    for l in range(k-1,0,-1):\n",
    "        print(l,end=\"\")\n",
    "    print()"
   ]
  },
  {
   "cell_type": "code",
   "execution_count": 70,
   "id": "78f2e0e1",
   "metadata": {},
   "outputs": [
    {
     "name": "stdout",
     "output_type": "stream",
     "text": [
      "Enter the value of n -->8\n",
      "sum ==>  6.171031746031746\n"
     ]
    }
   ],
   "source": [
    "# WAP to sum the series\n",
    "# 1/2 + 2/3+ ... + n/n+1\n",
    "sum1=0\n",
    "n = int(input(\"Enter the value of n -->\" ))\n",
    "for i in range(1,n+1):\n",
    "    sum1 = sum1 + i/(i+1)\n",
    "print(\"sum ==> \",sum1)"
   ]
  },
  {
   "cell_type": "code",
   "execution_count": 71,
   "id": "b2920282",
   "metadata": {},
   "outputs": [
    {
     "name": "stdout",
     "output_type": "stream",
     "text": [
      "Enter the value of n -->6\n",
      "sum ==>  21\n"
     ]
    }
   ],
   "source": [
    "# WAP to sum the series\n",
    "# 1^2/2 + 2^2/3+ ... + n^2/n+1\n",
    "sum1=0\n",
    "n = int(input(\"Enter the value of n -->\" ))\n",
    "for i in range(1,n+1):\n",
    "    sum1 = sum1 + i\n",
    "print(\"sum ==> \",sum1)"
   ]
  },
  {
   "cell_type": "raw",
   "id": "bed535fb",
   "metadata": {},
   "source": [
    "#WAP to print 3*3 grid\n",
    "(0,0) (0,1) (0,2)\n",
    "(1,0) (1,1) (1,2)\n",
    "(2,0) (2,1) (2,2)"
   ]
  },
  {
   "cell_type": "code",
   "execution_count": 73,
   "id": "6867eacb",
   "metadata": {},
   "outputs": [
    {
     "name": "stdout",
     "output_type": "stream",
     "text": [
      "(0,0) (0,1) (0,2) \n",
      "(1,0) (1,1) (1,2) \n",
      "(2,0) (2,1) (2,2) \n"
     ]
    }
   ],
   "source": [
    "n=3\n",
    "for i in range(0,3):\n",
    "    for j in range(0,3):\n",
    "        print(\"({},{})\".format(i,j),end=\" \")\n",
    "    print()"
   ]
  },
  {
   "cell_type": "code",
   "execution_count": 76,
   "id": "58681d46",
   "metadata": {},
   "outputs": [
    {
     "name": "stdout",
     "output_type": "stream",
     "text": [
      "[[14, 20], [20, 29]]\n"
     ]
    }
   ],
   "source": [
    "#WAP to perform metrix multiplication\n",
    "m1=[[1,2,3],[2,3,4]]\n",
    "m2=[[1,2],[2,3],[3,4]]\n",
    "m3=[[0,0],[0,0]]\n",
    "\n",
    "for i in range(0,2):\n",
    "    for j in range(0,2):\n",
    "        for k in range(3):\n",
    "            m3[i][j] = m3[i][j] + m1[i][k]*m2[k][j]\n",
    "print(m3)"
   ]
  },
  {
   "cell_type": "code",
   "execution_count": 81,
   "id": "4eb865b5",
   "metadata": {},
   "outputs": [
    {
     "name": "stdout",
     "output_type": "stream",
     "text": [
      "* \n",
      "* * \n",
      "* * * \n",
      "* * * * \n",
      "* * * * * \n",
      "* * * * \n",
      "* * * \n",
      "* * \n",
      "* \n",
      "\n"
     ]
    }
   ],
   "source": [
    "#4. prnt patter\n",
    "for i in range(1,6):\n",
    "    for j in range(1,i+1):\n",
    "        print(\"*\",end=\" \")\n",
    "    print()\n",
    "for i in range(1,6):\n",
    "    for j in range(5 ,i,-1):\n",
    "        print(\"*\",end=\" \")\n",
    "    print()"
   ]
  },
  {
   "cell_type": "code",
   "execution_count": 84,
   "id": "ea266dfd",
   "metadata": {},
   "outputs": [
    {
     "name": "stdout",
     "output_type": "stream",
     "text": [
      "red apple\n",
      "red banana\n",
      "red cherry\n",
      "big apple\n",
      "big banana\n",
      "big cherry\n",
      "tasty apple\n",
      "tasty banana\n",
      "tasty cherry\n"
     ]
    }
   ],
   "source": [
    "objectives=[\"red\",\"big\",\"tasty\"]\n",
    "fruit=[\"apple\",\"banana\",\"cherry\"]\n",
    "for i in range(len(objectives)):\n",
    "    for j in range(len(fruit)):\n",
    "        print(\"{} {}\".format(objectives[i],fruit[j]))"
   ]
  },
  {
   "cell_type": "code",
   "execution_count": 19,
   "id": "7c3bf3b0",
   "metadata": {},
   "outputs": [
    {
     "name": "stdout",
     "output_type": "stream",
     "text": [
      "     *\n",
      "    ***\n",
      "   *****\n",
      "  *******\n",
      " *********\n",
      "***********\n",
      " *********\n",
      "  *******\n",
      "   *****\n",
      "    ***\n",
      "     *\n"
     ]
    }
   ],
   "source": [
    "n = 10\n",
    "for i in range(1,int(n/2)+1):\n",
    "    for j in range (6,i,-1):\n",
    "        print(end=\" \")\n",
    "    for k in range(1,i+1):\n",
    "        print(\"*\",end=\"\")\n",
    "    for l in range(k-1,0,-1):\n",
    "        print(\"*\",end=\"\")\n",
    "    \n",
    "    print()\n",
    "for i in range(int(n/2) +1 ,0 , -1):\n",
    "    for j in range (6,i,-1):\n",
    "        print(end=\" \")\n",
    "    for k in range(1,i+1):\n",
    "        print(\"*\",end=\"\")\n",
    "    for l in range(k-1,0,-1):\n",
    "        print(\"*\",end=\"\")\n",
    "    \n",
    "    print()"
   ]
  },
  {
   "cell_type": "code",
   "execution_count": 20,
   "id": "08db5691",
   "metadata": {},
   "outputs": [
    {
     "name": "stdout",
     "output_type": "stream",
     "text": [
      "enter number --> 5\n",
      "[0, 1, 1, 2, 3]\n"
     ]
    }
   ],
   "source": [
    "#print fibonacci series\n",
    "n = int(input(\"enter number --> \"))\n",
    "s = [0,1]\n",
    "for i in range (2,n):\n",
    "    a = s[i-1] + s[i-2]\n",
    "    s.append(a)\n",
    "print(s)"
   ]
  },
  {
   "cell_type": "code",
   "execution_count": 36,
   "id": "58ce947b",
   "metadata": {},
   "outputs": [
    {
     "name": "stdout",
     "output_type": "stream",
     "text": [
      "[53, 59, 61, 67, 71, 73, 79, 83, 89, 97]\n"
     ]
    }
   ],
   "source": [
    "#prime number between 50 t0 100\n",
    "p = []\n",
    "for i in range(50,100):\n",
    "    c=0\n",
    "    for j in range(2,i):\n",
    "        if i % j ==0 : \n",
    "            c +=1\n",
    "    if c == 0:\n",
    "        p.append(i)\n",
    "print(p)\n",
    "            "
   ]
  },
  {
   "cell_type": "code",
   "execution_count": 41,
   "id": "20e029c3",
   "metadata": {},
   "outputs": [
    {
     "name": "stdout",
     "output_type": "stream",
     "text": [
      "* - - - - - \n",
      "- * - - - - \n",
      "- - * - - - \n",
      "- - - * - - \n",
      "- - - - * - \n",
      "- - - - - * \n"
     ]
    }
   ],
   "source": [
    "n = 6\n",
    "for i in range(n):\n",
    "    for j in range(n):\n",
    "        if i==j :\n",
    "            print(\"*\",end=\" \")\n",
    "        else:\n",
    "            print(\"-\",end=\" \")\n",
    "    print()"
   ]
  },
  {
   "cell_type": "code",
   "execution_count": 43,
   "id": "6ff1a5ae",
   "metadata": {},
   "outputs": [
    {
     "name": "stdout",
     "output_type": "stream",
     "text": [
      "* * * * * * * * * * \n",
      "* - - - - - - - - * \n",
      "* - - - - - - - - * \n",
      "* - - - - - - - - * \n",
      "* - - - - - - - - * \n",
      "* - - - - - - - - * \n",
      "* - - - - - - - - * \n",
      "* - - - - - - - - * \n",
      "* - - - - - - - - * \n",
      "* * * * * * * * * * \n"
     ]
    }
   ],
   "source": [
    "n = 10\n",
    "for i in range(n):\n",
    "    for j in range(n):\n",
    "        if i==0 or i==n-1 or j == 0 or j==n-1 :\n",
    "            print(\"*\",end=\" \")\n",
    "        else:\n",
    "            print(\"-\",end=\" \")\n",
    "    print()"
   ]
  },
  {
   "cell_type": "code",
   "execution_count": null,
   "id": "c0c715f1",
   "metadata": {},
   "outputs": [],
   "source": []
  }
 ],
 "metadata": {
  "kernelspec": {
   "display_name": "Python 3 (ipykernel)",
   "language": "python",
   "name": "python3"
  },
  "language_info": {
   "codemirror_mode": {
    "name": "ipython",
    "version": 3
   },
   "file_extension": ".py",
   "mimetype": "text/x-python",
   "name": "python",
   "nbconvert_exporter": "python",
   "pygments_lexer": "ipython3",
   "version": "3.11.4"
  }
 },
 "nbformat": 4,
 "nbformat_minor": 5
}
