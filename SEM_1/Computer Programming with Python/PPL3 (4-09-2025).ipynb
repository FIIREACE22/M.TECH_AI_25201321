{
 "cells": [
  {
   "cell_type": "code",
   "execution_count": 6,
   "id": "89384180",
   "metadata": {},
   "outputs": [
    {
     "name": "stdout",
     "output_type": "stream",
     "text": [
      "what is your name==>Harsh \n",
      "Enter your age==>21\n",
      "My name is Harsh  My age is 21\n"
     ]
    }
   ],
   "source": [
    "name = input(\"what is your name==>\")\n",
    "age  = input(\"Enter your age==>\")\n",
    "\n",
    "print(\"My name is \"+name+ \" My age is \"+age)"
   ]
  },
  {
   "cell_type": "code",
   "execution_count": 7,
   "id": "ea9d79c2",
   "metadata": {},
   "outputs": [
    {
     "name": "stdout",
     "output_type": "stream",
     "text": [
      "Enter a number==>16\n",
      "Number ==  16\n",
      "Hexadecimal of number is ==  0x10\n",
      "Octal of a numer is ==  0o20\n",
      "Square root o fnumber is ==  4.0\n"
     ]
    }
   ],
   "source": [
    "#Write a program to enter a number and display its hex , octal ahd squre root\n",
    "import math as m\n",
    "\n",
    "n = int(input(\"Enter a number==>\"))\n",
    "print(\"Number == \",n)\n",
    "print(\"Hexadecimal of number is == \",hex(n))\n",
    "print(\"Octal of a numer is == \",oct(n))\n",
    "print(\"Square root o fnumber is == \",m.sqrt(n))"
   ]
  },
  {
   "cell_type": "code",
   "execution_count": 11,
   "id": "6c695391",
   "metadata": {},
   "outputs": [
    {
     "name": "stdout",
     "output_type": "stream",
     "text": [
      "Enter length of a ==> 3\n",
      "Enter length of b ==> 4\n",
      "Enter length of c ==> 5\n",
      "Area Of Triangle ==>  6.0\n"
     ]
    }
   ],
   "source": [
    "#Write a program to calculate area of a triangle using heron's formula\n",
    "\n",
    "a = float(input(\"Enter length of a ==> \"))\n",
    "b = float(input(\"Enter length of b ==> \"))\n",
    "c = float(input(\"Enter length of c ==> \"))\n",
    "s=(a+b+c)/2\n",
    "Area = m.sqrt(s*(s-a)*(s-b)*(s-c))\n",
    "\n",
    "print(\"Area Of Triangle ==> \",Area)"
   ]
  },
  {
   "cell_type": "code",
   "execution_count": 14,
   "id": "28bf45f9",
   "metadata": {},
   "outputs": [
    {
     "name": "stdout",
     "output_type": "stream",
     "text": [
      "Enter co ordinate x1 ==> 1\n",
      "Enter co ordinate x2 ==> 2\n",
      "Enter co ordinate y1 ==> 3\n",
      "Enter co ordinate y2 ==> 4\n",
      "Distance between ( 1.0 , 3.0 ) and ( 2.0 , 4.0 ) is ==> 1.4142135623730951\n"
     ]
    }
   ],
   "source": [
    "#Write a program to calculate distance between two point\n",
    "x1 = float(input(\"Enter co ordinate x1 ==> \"))\n",
    "x2 = float(input(\"Enter co ordinate x2 ==> \"))\n",
    "y1 = float(input(\"Enter co ordinate y1 ==> \"))\n",
    "y2 = float(input(\"Enter co ordinate y2 ==> \"))\n",
    "\n",
    "d=m.sqrt((x1-x2)*(x1-x2) + (y1-y2)*(y1-y2))\n",
    "print(\"Distance between (\",x1,\",\",y1,\") and (\",x2,\",\",y2,\") is ==>\",d)"
   ]
  },
  {
   "cell_type": "code",
   "execution_count": 21,
   "id": "eda81d00",
   "metadata": {},
   "outputs": [
    {
     "name": "stdout",
     "output_type": "stream",
     "text": [
      "Enter a ==>5.5\n",
      "Enter b ==>6.8\n",
      "Enter + ,-,*,/ ==> *\n",
      "Answer = 37.4\n"
     ]
    }
   ],
   "source": [
    "#WAP to perform addition substraction , multiplicatuion and divivsion of two floating point number \n",
    "\n",
    "a=float(input(\"Enter a ==>\"))\n",
    "b=float(input(\"Enter b ==>\"))\n",
    "c = input(\"Enter + ,-,*,/ ==> \")\n",
    "ans = float(0)\n",
    "match(c):\n",
    "    case '+' : ans = a + b\n",
    "        \n",
    "    case \"-\" : ans = a -b\n",
    "        \n",
    "    case \"*\" : ans = a *b\n",
    "        \n",
    "    case \"/\" : ans = a /b\n",
    "        \n",
    "        \n",
    "print(\"Answer =\",ans)"
   ]
  },
  {
   "cell_type": "code",
   "execution_count": 35,
   "id": "df1d47a2",
   "metadata": {},
   "outputs": [
    {
     "name": "stdout",
     "output_type": "stream",
     "text": [
      "Enter quantity of an item == 123\n",
      "Enter price of single unit == 256\n",
      "Enter discount percentage == 6\n",
      "\n",
      "\n",
      "\n",
      "\n",
      "\n",
      "*************BILL*************\n",
      "Quantaty Sold:                 123\n",
      "Price per item:                256\n",
      "--------------------------------\n",
      "Amount:                        31488\n",
      "Discount                 :     6 %\n",
      "--------------------------------\n",
      "Discount Total           :     33377.28\n",
      "Tax                      :     6007.91\n",
      "--------------------------------\n",
      "Total amount to be paid  :     39385.19\n"
     ]
    }
   ],
   "source": [
    "#WAP to calculate the bill amount including discount total\n",
    "q =int(input(\"Enter quantity of an item == \"))\n",
    "p =int(input(\"Enter price of single unit == \"))\n",
    "d =int(input(\"Enter discount percentage == \"))\n",
    "dt =(q*p) + (q*p)*(d/100)\n",
    "tax=(dt*0.18)\n",
    "print(\"\\n\\n\\n\\n\")\n",
    "print(format(\"BILL\",\"*^30\"))\n",
    "print(format(\"Quantaty Sold:\",' <30'),q)\n",
    "print(format(\"Price per item:\",' <30'),p)\n",
    "print(\"--------------------------------\")\n",
    "print(format(\"Amount:\",' <30'),q*p)\n",
    "print(format(\"Discount                 :\",' <30'),d,\"%\")\n",
    "print(\"--------------------------------\")\n",
    "print(format(\"Discount Total           :\",' <30'),round(dt,2))\n",
    "print(format(\"Tax                      :\",\" <30\"),round(tax,2))\n",
    "print(\"--------------------------------\")\n",
    "print(format(\"Total amount to be paid  :\",' <30'),round(tax+dt,2))"
   ]
  },
  {
   "cell_type": "code",
   "execution_count": 44,
   "id": "64141549",
   "metadata": {},
   "outputs": [
    {
     "name": "stdout",
     "output_type": "stream",
     "text": [
      "Enter marks of sports event out of 100 ==> 56\n",
      "Enter marks of activity 1 out of 100 ==> 98\n",
      "Enter marks of activity 2 out of 100 ==> 87\n",
      "Enter marks of activity 3 out of 100 ==> 56\n",
      "Enter marks of exam 1 out of 100 ==> 58\n",
      "Enter marks of exam 2 out of 100 ==> 78\n",
      "Total marks ==>  69.3\n"
     ]
    }
   ],
   "source": [
    "# WAP to calculate students result based on two examination , 1 sport event and 3 activities conducted. \n",
    "# weightage of activities is 30% , sport 20% and examination is 50%\n",
    "\n",
    "se  = int(input(\"Enter marks of sports event out of 100 ==> \"))\n",
    "ac1 = int(input(\"Enter marks of activity 1 out of 100 ==> \"))\n",
    "ac2 = int(input(\"Enter marks of activity 2 out of 100 ==> \"))\n",
    "ac3 = int(input(\"Enter marks of activity 3 out of 100 ==> \"))\n",
    "ex1 = int(input(\"Enter marks of exam 1 out of 100 ==> \"))\n",
    "ex2 = int(input(\"Enter marks of exam 2 out of 100 ==> \"))\n",
    "\n",
    "total_marks = (se*0.2) + ((ac1+ ac2 + ac3)/3)*0.3 + ((ex1 + ex2)/2)*0.5\n",
    "\n",
    "print(\"Total marks ==> \",total_marks)"
   ]
  },
  {
   "cell_type": "code",
   "execution_count": 45,
   "id": "8159600f",
   "metadata": {},
   "outputs": [
    {
     "name": "stdout",
     "output_type": "stream",
     "text": [
      "Enter temprature in farenheit ==> 556.8\n",
      "Calcius ==>  291.55555555555554\n"
     ]
    }
   ],
   "source": [
    "# WAP to convert degree eferenhight to degree celcius\n",
    "\n",
    "f=float(input(\"Enter temprature in farenheit ==> \"))\n",
    "c=(f-32)*(5/9)\n",
    "\n",
    "print(\"Calcius ==> \",c)"
   ]
  },
  {
   "cell_type": "code",
   "execution_count": 47,
   "id": "d5feab26",
   "metadata": {},
   "outputs": [
    {
     "name": "stdout",
     "output_type": "stream",
     "text": [
      "Enter no. of Rs1 coins ==> 6\n",
      "Enter no. of Rs2 coins ==> 8\n",
      "Enter no. of Rs5 coins ==> 9\n",
      "Enter no. of Rs10 coins ==> 7\n",
      "Total Money In Piggy Bank ==>  137\n"
     ]
    }
   ],
   "source": [
    "# WAP to calculate total amount of money in piggybank givan coins os rupees 10,5,2,1...\n",
    "\n",
    "Rs1 = int(input(\"Enter no. of Rs1 coins ==> \"))\n",
    "Rs2 = int(input(\"Enter no. of Rs2 coins ==> \"))\n",
    "Rs5 = int(input(\"Enter no. of Rs5 coins ==> \"))\n",
    "Rs10 = int(input(\"Enter no. of Rs10 coins ==> \"))\n",
    "\n",
    "\n",
    "Total_Money = Rs1 + 2*Rs2 + 5*Rs5 + 10*Rs10\n",
    "print(\"Total Money In Piggy Bank ==> \",Total_Money)"
   ]
  },
  {
   "cell_type": "code",
   "execution_count": null,
   "id": "4cb52a1f",
   "metadata": {},
   "outputs": [],
   "source": []
  }
 ],
 "metadata": {
  "kernelspec": {
   "display_name": "Python 3 (ipykernel)",
   "language": "python",
   "name": "python3"
  },
  "language_info": {
   "codemirror_mode": {
    "name": "ipython",
    "version": 3
   },
   "file_extension": ".py",
   "mimetype": "text/x-python",
   "name": "python",
   "nbconvert_exporter": "python",
   "pygments_lexer": "ipython3",
   "version": "3.11.4"
  }
 },
 "nbformat": 4,
 "nbformat_minor": 5
}
