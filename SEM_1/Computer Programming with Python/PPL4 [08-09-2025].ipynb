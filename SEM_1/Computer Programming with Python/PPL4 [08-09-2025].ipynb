{
 "cells": [
  {
   "cell_type": "markdown",
   "id": "f702351d",
   "metadata": {},
   "source": [
    "# Control Statements\n",
    "\n",
    "1. Sequential Control Statement\n",
    "2. Selection Control Statement\n",
    "3. Iterative Control Statement"
   ]
  },
  {
   "cell_type": "code",
   "execution_count": 2,
   "id": "64547452",
   "metadata": {},
   "outputs": [
    {
     "name": "stdout",
     "output_type": "stream",
     "text": [
      "x==>  5\n"
     ]
    }
   ],
   "source": [
    "x = 4\n",
    "if x>0 :\n",
    "    x+=1\n",
    "print(\"x==> \",x)"
   ]
  },
  {
   "cell_type": "code",
   "execution_count": 5,
   "id": "f0a923e3",
   "metadata": {},
   "outputs": [
    {
     "name": "stdout",
     "output_type": "stream",
     "text": [
      "Ener the age of a Person==> 20\n",
      "You are Eligible to vote.......\n"
     ]
    }
   ],
   "source": [
    "#WAP to determine if the person is eligible to vote\n",
    "\n",
    "Age = int(input(\"Ener the age of a Person==> \"))\n",
    "\n",
    "if (Age >= 18):\n",
    "    print(\"You are Eligible to vote.......\")\n",
    "else:\n",
    "    print(\"You are not eligible to vote....\")"
   ]
  },
  {
   "cell_type": "code",
   "execution_count": 8,
   "id": "86f26b48",
   "metadata": {},
   "outputs": [
    {
     "name": "stdout",
     "output_type": "stream",
     "text": [
      "Press any key... \n",
      "  is space..\n"
     ]
    }
   ],
   "source": [
    "#WAP to determine character entered by user\n",
    "\n",
    "ch=input(\"Press any key...\")\n",
    "if ch.isalpha() :\n",
    "    print(\"{} is caharacter..\".format(ch))\n",
    "if ch.isdigit():\n",
    "    print(\"{} is digit..\".format(ch))\n",
    "if ch.isspace() :\n",
    "    print(\"{} is space..\".format(ch))"
   ]
  },
  {
   "cell_type": "code",
   "execution_count": 10,
   "id": "9ac962bd",
   "metadata": {},
   "outputs": [
    {
     "name": "stdout",
     "output_type": "stream",
     "text": [
      "Ener the age of a Person==> 10\n",
      "8 years remains for being eligible to vote....\n"
     ]
    }
   ],
   "source": [
    "#WAP to determine if the person is eligible to vote or not if he is not eligible display how many years are left to be eligible\n",
    "\n",
    "Age = int(input(\"Ener the age of a Person==> \"))\n",
    "\n",
    "if (Age >= 18):\n",
    "    print(\"You are Eligible to vote.......\")\n",
    "else:\n",
    "    print(\"{} years remains for being eligible to vote....\".format(18 - Age))"
   ]
  },
  {
   "cell_type": "code",
   "execution_count": 13,
   "id": "0c551016",
   "metadata": {},
   "outputs": [
    {
     "name": "stdout",
     "output_type": "stream",
     "text": [
      "20\n"
     ]
    }
   ],
   "source": [
    "#WAP to write a large of to number\n",
    "a = 10\n",
    "b = 20\n",
    "print(a if a>b else b)"
   ]
  },
  {
   "cell_type": "code",
   "execution_count": 17,
   "id": "37f420a4",
   "metadata": {},
   "outputs": [
    {
     "name": "stdout",
     "output_type": "stream",
     "text": [
      "Press any character...S\n",
      "s\n"
     ]
    }
   ],
   "source": [
    "#WAP to enter any character if entered char is in lowercase than convert it into upper case and vise warsa\n",
    "ch=input(\"Press any character...\")\n",
    "if(ch.islower()) :\n",
    "    print(ch.upper())\n",
    "else :\n",
    "    print(ch.lower())"
   ]
  },
  {
   "cell_type": "code",
   "execution_count": null,
   "id": "49400e7c",
   "metadata": {},
   "outputs": [],
   "source": []
  }
 ],
 "metadata": {
  "kernelspec": {
   "display_name": "Python 3 (ipykernel)",
   "language": "python",
   "name": "python3"
  },
  "language_info": {
   "codemirror_mode": {
    "name": "ipython",
    "version": 3
   },
   "file_extension": ".py",
   "mimetype": "text/x-python",
   "name": "python",
   "nbconvert_exporter": "python",
   "pygments_lexer": "ipython3",
   "version": "3.11.4"
  }
 },
 "nbformat": 4,
 "nbformat_minor": 5
}
