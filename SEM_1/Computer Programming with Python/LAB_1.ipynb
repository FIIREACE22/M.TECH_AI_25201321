{
 "cells": [
  {
   "cell_type": "code",
   "execution_count": 5,
   "id": "f9a987ca",
   "metadata": {},
   "outputs": [
    {
     "name": "stdout",
     "output_type": "stream",
     "text": [
      "Hello world\n"
     ]
    }
   ],
   "source": [
    "print(\"Hello world\")"
   ]
  },
  {
   "cell_type": "code",
   "execution_count": 8,
   "id": "cf552d8f",
   "metadata": {},
   "outputs": [
    {
     "name": "stdout",
     "output_type": "stream",
     "text": [
      "3.11.5 | packaged by Anaconda, Inc. | (main, Sep 11 2023, 13:26:23) [MSC v.1916 64 bit (AMD64)]\n"
     ]
    }
   ],
   "source": [
    "import sys\n",
    "print(sys.version)"
   ]
  },
  {
   "cell_type": "markdown",
   "id": "b3eb5ca9",
   "metadata": {},
   "source": [
    "# Operators"
   ]
  },
  {
   "cell_type": "markdown",
   "id": "539b1fcf",
   "metadata": {},
   "source": [
    "Types:\n",
    "1. Arithmetic\n",
    "2. Assignment\n",
    "3. Comparison\n",
    "4. Logical"
   ]
  },
  {
   "cell_type": "markdown",
   "id": "f8d0463f",
   "metadata": {},
   "source": [
    "## Arithmetic"
   ]
  },
  {
   "cell_type": "code",
   "execution_count": 9,
   "id": "ecca3fe6",
   "metadata": {},
   "outputs": [],
   "source": [
    "a=13\n",
    "b=6"
   ]
  },
  {
   "cell_type": "code",
   "execution_count": 11,
   "id": "199d11ce",
   "metadata": {},
   "outputs": [
    {
     "name": "stdout",
     "output_type": "stream",
     "text": [
      "Sum = 19\n"
     ]
    }
   ],
   "source": [
    "c=a+b\n",
    "print(\"Sum =\",c)"
   ]
  },
  {
   "cell_type": "code",
   "execution_count": 12,
   "id": "895d940a",
   "metadata": {},
   "outputs": [
    {
     "name": "stdout",
     "output_type": "stream",
     "text": [
      "Difference = 7\n"
     ]
    }
   ],
   "source": [
    "d=a-b\n",
    "print(\"Difference =\",d)"
   ]
  },
  {
   "cell_type": "code",
   "execution_count": 14,
   "id": "37442045",
   "metadata": {},
   "outputs": [
    {
     "name": "stdout",
     "output_type": "stream",
     "text": [
      "Product = 78\n",
      "Division result = 2.1666666666666665\n",
      "Floor division result = 2\n"
     ]
    }
   ],
   "source": [
    "e=a*b\n",
    "f=a/b\n",
    "g=a//b\n",
    "print(\"Product =\",e)\n",
    "print(\"Division result =\",f)\n",
    "print(\"Floor division result =\",g)"
   ]
  },
  {
   "cell_type": "code",
   "execution_count": 15,
   "id": "d87d8fed",
   "metadata": {},
   "outputs": [
    {
     "name": "stdout",
     "output_type": "stream",
     "text": [
      "-3\n"
     ]
    }
   ],
   "source": [
    "print(-a//b) "
   ]
  },
  {
   "cell_type": "markdown",
   "id": "4dd9a408",
   "metadata": {},
   "source": [
    "NOTE: a floor b rounds results to nearest whole number and incase of negative number, it rounds towards negative infinity"
   ]
  },
  {
   "cell_type": "code",
   "execution_count": 16,
   "id": "c44c37bb",
   "metadata": {},
   "outputs": [
    {
     "name": "stdout",
     "output_type": "stream",
     "text": [
      "0.1\n",
      "0.5\n",
      "1\n"
     ]
    }
   ],
   "source": [
    "print(10**-1)\n",
    "print(2**-1)\n",
    "print(7**0)"
   ]
  },
  {
   "cell_type": "code",
   "execution_count": 18,
   "id": "24d0be54",
   "metadata": {},
   "outputs": [
    {
     "name": "stdout",
     "output_type": "stream",
     "text": [
      "1\n"
     ]
    }
   ],
   "source": [
    "print(7%2) # Modulo operator"
   ]
  },
  {
   "cell_type": "markdown",
   "id": "f56ff7f9",
   "metadata": {},
   "source": [
    "## Comparison Operators"
   ]
  },
  {
   "cell_type": "code",
   "execution_count": 19,
   "id": "e8b1b029",
   "metadata": {},
   "outputs": [
    {
     "name": "stdout",
     "output_type": "stream",
     "text": [
      "True\n"
     ]
    }
   ],
   "source": [
    "print(9==9)"
   ]
  },
  {
   "cell_type": "code",
   "execution_count": 27,
   "id": "cebd9baf",
   "metadata": {},
   "outputs": [
    {
     "name": "stdout",
     "output_type": "stream",
     "text": [
      "False\n"
     ]
    }
   ],
   "source": [
    "print(9!=9)"
   ]
  },
  {
   "cell_type": "code",
   "execution_count": 21,
   "id": "ae2f12ad",
   "metadata": {},
   "outputs": [
    {
     "name": "stdout",
     "output_type": "stream",
     "text": [
      "False\n"
     ]
    }
   ],
   "source": [
    "print(9>10)"
   ]
  },
  {
   "cell_type": "code",
   "execution_count": 24,
   "id": "b4f4045a",
   "metadata": {},
   "outputs": [
    {
     "name": "stdout",
     "output_type": "stream",
     "text": [
      "True\n"
     ]
    }
   ],
   "source": [
    "print(9<10)"
   ]
  },
  {
   "cell_type": "code",
   "execution_count": 22,
   "id": "55f35ebc",
   "metadata": {},
   "outputs": [
    {
     "name": "stdout",
     "output_type": "stream",
     "text": [
      "False\n"
     ]
    }
   ],
   "source": [
    "print(12<=10)"
   ]
  },
  {
   "cell_type": "code",
   "execution_count": 25,
   "id": "c9f889c5",
   "metadata": {},
   "outputs": [
    {
     "name": "stdout",
     "output_type": "stream",
     "text": [
      "True\n"
     ]
    }
   ],
   "source": [
    "print(12>=10)"
   ]
  },
  {
   "cell_type": "markdown",
   "id": "8f7e8008",
   "metadata": {},
   "source": [
    "## Assignment Operators"
   ]
  },
  {
   "cell_type": "code",
   "execution_count": 28,
   "id": "889273f6",
   "metadata": {},
   "outputs": [
    {
     "name": "stdout",
     "output_type": "stream",
     "text": [
      "2\n"
     ]
    }
   ],
   "source": [
    "f=g\n",
    "print(f)"
   ]
  },
  {
   "cell_type": "code",
   "execution_count": 30,
   "id": "3c298cf1",
   "metadata": {},
   "outputs": [
    {
     "name": "stdout",
     "output_type": "stream",
     "text": [
      "15\n"
     ]
    }
   ],
   "source": [
    "a+=1\n",
    "print(a)"
   ]
  },
  {
   "cell_type": "code",
   "execution_count": 31,
   "id": "4f07d811",
   "metadata": {},
   "outputs": [
    {
     "name": "stdout",
     "output_type": "stream",
     "text": [
      "14\n"
     ]
    }
   ],
   "source": [
    "a-=1\n",
    "print(a)"
   ]
  },
  {
   "cell_type": "code",
   "execution_count": 32,
   "id": "ac46db56",
   "metadata": {},
   "outputs": [
    {
     "name": "stdout",
     "output_type": "stream",
     "text": [
      "28\n"
     ]
    }
   ],
   "source": [
    "a*=2\n",
    "print(a)"
   ]
  },
  {
   "cell_type": "code",
   "execution_count": 33,
   "id": "03d20db9",
   "metadata": {},
   "outputs": [
    {
     "name": "stdout",
     "output_type": "stream",
     "text": [
      "14.0\n"
     ]
    }
   ],
   "source": [
    "a/=2\n",
    "print(a)"
   ]
  },
  {
   "cell_type": "code",
   "execution_count": 34,
   "id": "ec79e5a8",
   "metadata": {},
   "outputs": [
    {
     "name": "stdout",
     "output_type": "stream",
     "text": [
      "2.0\n"
     ]
    }
   ],
   "source": [
    "a%=3\n",
    "print(a)"
   ]
  },
  {
   "cell_type": "code",
   "execution_count": 35,
   "id": "0dc3d31c",
   "metadata": {},
   "outputs": [
    {
     "name": "stdout",
     "output_type": "stream",
     "text": [
      "1.0\n"
     ]
    }
   ],
   "source": [
    "a//=2\n",
    "print(a)"
   ]
  },
  {
   "cell_type": "code",
   "execution_count": 37,
   "id": "8a485ef7",
   "metadata": {},
   "outputs": [],
   "source": [
    "a*=2"
   ]
  },
  {
   "cell_type": "code",
   "execution_count": 38,
   "id": "9e34d974",
   "metadata": {},
   "outputs": [
    {
     "name": "stdout",
     "output_type": "stream",
     "text": [
      "4.0\n"
     ]
    }
   ],
   "source": [
    "a**=2\n",
    "print(a)"
   ]
  },
  {
   "cell_type": "markdown",
   "id": "71a9f22c",
   "metadata": {},
   "source": [
    "## Logical Operators"
   ]
  },
  {
   "cell_type": "code",
   "execution_count": 39,
   "id": "d7f5b94d",
   "metadata": {},
   "outputs": [],
   "source": [
    "a=2\n",
    "b=10"
   ]
  },
  {
   "cell_type": "code",
   "execution_count": 46,
   "id": "9fc030f1",
   "metadata": {},
   "outputs": [
    {
     "name": "stdout",
     "output_type": "stream",
     "text": [
      "False\n"
     ]
    }
   ],
   "source": [
    "print(a<5 and b>19)"
   ]
  },
  {
   "cell_type": "code",
   "execution_count": 44,
   "id": "6b5ac332",
   "metadata": {},
   "outputs": [
    {
     "name": "stdout",
     "output_type": "stream",
     "text": [
      "True\n"
     ]
    }
   ],
   "source": [
    "print(a<5 or b>19)"
   ]
  },
  {
   "cell_type": "code",
   "execution_count": 47,
   "id": "5b558530",
   "metadata": {},
   "outputs": [],
   "source": [
    "is_Allowance = True"
   ]
  },
  {
   "cell_type": "code",
   "execution_count": 50,
   "id": "68439344",
   "metadata": {},
   "outputs": [
    {
     "name": "stdout",
     "output_type": "stream",
     "text": [
      "False\n"
     ]
    }
   ],
   "source": [
    "print(not is_Allowance)"
   ]
  }
 ],
 "metadata": {
  "kernelspec": {
   "display_name": "Python 3 (ipykernel)",
   "language": "python",
   "name": "python3"
  },
  "language_info": {
   "codemirror_mode": {
    "name": "ipython",
    "version": 3
   },
   "file_extension": ".py",
   "mimetype": "text/x-python",
   "name": "python",
   "nbconvert_exporter": "python",
   "pygments_lexer": "ipython3",
   "version": "3.11.5"
  }
 },
 "nbformat": 4,
 "nbformat_minor": 5
}
