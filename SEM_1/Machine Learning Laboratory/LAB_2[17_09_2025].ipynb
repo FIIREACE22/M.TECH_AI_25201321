{
 "cells": [
  {
   "cell_type": "code",
   "execution_count": 73,
   "id": "db307acd",
   "metadata": {},
   "outputs": [],
   "source": [
    "import numpy as np\n",
    "from sklearn.linear_model import LogisticRegression\n",
    "from sklearn.model_selection import train_test_split,KFold,cross_val_score"
   ]
  },
  {
   "cell_type": "code",
   "execution_count": 74,
   "id": "4817d760",
   "metadata": {},
   "outputs": [
    {
     "data": {
      "text/plain": [
       "array([[ 32,   1],\n",
       "       [ 63,   1],\n",
       "       [ 86,   1],\n",
       "       [102,   0],\n",
       "       [ 54,   0],\n",
       "       [ 40,   1],\n",
       "       [ 97,   0],\n",
       "       [114,   1],\n",
       "       [ 75,   1],\n",
       "       [ 52,   1],\n",
       "       [ 48,   1],\n",
       "       [ 79,   1],\n",
       "       [ 99,   0],\n",
       "       [ 82,   1],\n",
       "       [ 73,   0],\n",
       "       [106,   0],\n",
       "       [ 72,   1],\n",
       "       [ 46,   0],\n",
       "       [ 69,   0],\n",
       "       [ 33,   0],\n",
       "       [ 84,   0],\n",
       "       [104,   1],\n",
       "       [100,   0],\n",
       "       [111,   1],\n",
       "       [108,   1],\n",
       "       [ 78,   1],\n",
       "       [122,   0],\n",
       "       [ 42,   1],\n",
       "       [ 92,   0],\n",
       "       [119,   0],\n",
       "       [126,   0],\n",
       "       [123,   1],\n",
       "       [ 62,   1],\n",
       "       [ 66,   0],\n",
       "       [112,   0],\n",
       "       [ 58,   0],\n",
       "       [107,   0],\n",
       "       [ 88,   0],\n",
       "       [ 77,   0],\n",
       "       [ 49,   0],\n",
       "       [ 37,   1],\n",
       "       [127,   1],\n",
       "       [ 83,   1],\n",
       "       [ 56,   1],\n",
       "       [113,   0],\n",
       "       [ 57,   0],\n",
       "       [110,   1],\n",
       "       [ 90,   1],\n",
       "       [ 93,   0],\n",
       "       [ 35,   1],\n",
       "       [121,   0],\n",
       "       [ 89,   0],\n",
       "       [124,   1],\n",
       "       [118,   0],\n",
       "       [ 64,   1],\n",
       "       [ 60,   1],\n",
       "       [101,   1],\n",
       "       [ 70,   1],\n",
       "       [ 41,   1],\n",
       "       [117,   1],\n",
       "       [128,   0],\n",
       "       [ 95,   1],\n",
       "       [ 43,   0],\n",
       "       [ 30,   1],\n",
       "       [ 47,   0],\n",
       "       [125,   1],\n",
       "       [ 80,   1],\n",
       "       [ 71,   1],\n",
       "       [ 94,   0],\n",
       "       [103,   0],\n",
       "       [ 96,   1],\n",
       "       [ 87,   0],\n",
       "       [ 91,   0],\n",
       "       [129,   1],\n",
       "       [ 76,   1],\n",
       "       [ 85,   0],\n",
       "       [ 45,   0],\n",
       "       [ 65,   1],\n",
       "       [ 36,   1],\n",
       "       [109,   0],\n",
       "       [ 67,   0],\n",
       "       [105,   1],\n",
       "       [ 51,   0],\n",
       "       [ 61,   0],\n",
       "       [115,   0],\n",
       "       [ 98,   0],\n",
       "       [ 50,   1],\n",
       "       [120,   0],\n",
       "       [ 39,   0],\n",
       "       [ 59,   1],\n",
       "       [ 68,   0],\n",
       "       [ 74,   1],\n",
       "       [116,   0],\n",
       "       [ 38,   0],\n",
       "       [ 53,   1],\n",
       "       [ 81,   0],\n",
       "       [ 31,   0],\n",
       "       [ 34,   0],\n",
       "       [ 55,   0],\n",
       "       [ 44,   1]])"
      ]
     },
     "execution_count": 74,
     "metadata": {},
     "output_type": "execute_result"
    }
   ],
   "source": [
    "n_sample = 100\n",
    "bmi = np.random.choice(range(30,130), size= n_sample, replace=False)\n",
    "obesse = np.random.choice([0,1],size=n_sample)\n",
    "dataset = np.column_stack((bmi,obesse))\n",
    "dataset"
   ]
  },
  {
   "cell_type": "code",
   "execution_count": 75,
   "id": "957b020d",
   "metadata": {},
   "outputs": [],
   "source": [
    "x= dataset[:,:-1]\n",
    "y=dataset[:,-1]"
   ]
  },
  {
   "cell_type": "code",
   "execution_count": 76,
   "id": "e8705786",
   "metadata": {},
   "outputs": [],
   "source": [
    "x_train,x_test,y_train,y_test = train_test_split(x,y,test_size=0.2,random_state= 42)"
   ]
  },
  {
   "cell_type": "code",
   "execution_count": 77,
   "id": "7bf04463",
   "metadata": {},
   "outputs": [],
   "source": [
    "model = LogisticRegression()"
   ]
  },
  {
   "cell_type": "code",
   "execution_count": 78,
   "id": "0a17e076",
   "metadata": {},
   "outputs": [
    {
     "data": {
      "text/html": [
       "<style>#sk-container-id-7 {color: black;}#sk-container-id-7 pre{padding: 0;}#sk-container-id-7 div.sk-toggleable {background-color: white;}#sk-container-id-7 label.sk-toggleable__label {cursor: pointer;display: block;width: 100%;margin-bottom: 0;padding: 0.3em;box-sizing: border-box;text-align: center;}#sk-container-id-7 label.sk-toggleable__label-arrow:before {content: \"▸\";float: left;margin-right: 0.25em;color: #696969;}#sk-container-id-7 label.sk-toggleable__label-arrow:hover:before {color: black;}#sk-container-id-7 div.sk-estimator:hover label.sk-toggleable__label-arrow:before {color: black;}#sk-container-id-7 div.sk-toggleable__content {max-height: 0;max-width: 0;overflow: hidden;text-align: left;background-color: #f0f8ff;}#sk-container-id-7 div.sk-toggleable__content pre {margin: 0.2em;color: black;border-radius: 0.25em;background-color: #f0f8ff;}#sk-container-id-7 input.sk-toggleable__control:checked~div.sk-toggleable__content {max-height: 200px;max-width: 100%;overflow: auto;}#sk-container-id-7 input.sk-toggleable__control:checked~label.sk-toggleable__label-arrow:before {content: \"▾\";}#sk-container-id-7 div.sk-estimator input.sk-toggleable__control:checked~label.sk-toggleable__label {background-color: #d4ebff;}#sk-container-id-7 div.sk-label input.sk-toggleable__control:checked~label.sk-toggleable__label {background-color: #d4ebff;}#sk-container-id-7 input.sk-hidden--visually {border: 0;clip: rect(1px 1px 1px 1px);clip: rect(1px, 1px, 1px, 1px);height: 1px;margin: -1px;overflow: hidden;padding: 0;position: absolute;width: 1px;}#sk-container-id-7 div.sk-estimator {font-family: monospace;background-color: #f0f8ff;border: 1px dotted black;border-radius: 0.25em;box-sizing: border-box;margin-bottom: 0.5em;}#sk-container-id-7 div.sk-estimator:hover {background-color: #d4ebff;}#sk-container-id-7 div.sk-parallel-item::after {content: \"\";width: 100%;border-bottom: 1px solid gray;flex-grow: 1;}#sk-container-id-7 div.sk-label:hover label.sk-toggleable__label {background-color: #d4ebff;}#sk-container-id-7 div.sk-serial::before {content: \"\";position: absolute;border-left: 1px solid gray;box-sizing: border-box;top: 0;bottom: 0;left: 50%;z-index: 0;}#sk-container-id-7 div.sk-serial {display: flex;flex-direction: column;align-items: center;background-color: white;padding-right: 0.2em;padding-left: 0.2em;position: relative;}#sk-container-id-7 div.sk-item {position: relative;z-index: 1;}#sk-container-id-7 div.sk-parallel {display: flex;align-items: stretch;justify-content: center;background-color: white;position: relative;}#sk-container-id-7 div.sk-item::before, #sk-container-id-7 div.sk-parallel-item::before {content: \"\";position: absolute;border-left: 1px solid gray;box-sizing: border-box;top: 0;bottom: 0;left: 50%;z-index: -1;}#sk-container-id-7 div.sk-parallel-item {display: flex;flex-direction: column;z-index: 1;position: relative;background-color: white;}#sk-container-id-7 div.sk-parallel-item:first-child::after {align-self: flex-end;width: 50%;}#sk-container-id-7 div.sk-parallel-item:last-child::after {align-self: flex-start;width: 50%;}#sk-container-id-7 div.sk-parallel-item:only-child::after {width: 0;}#sk-container-id-7 div.sk-dashed-wrapped {border: 1px dashed gray;margin: 0 0.4em 0.5em 0.4em;box-sizing: border-box;padding-bottom: 0.4em;background-color: white;}#sk-container-id-7 div.sk-label label {font-family: monospace;font-weight: bold;display: inline-block;line-height: 1.2em;}#sk-container-id-7 div.sk-label-container {text-align: center;}#sk-container-id-7 div.sk-container {/* jupyter's `normalize.less` sets `[hidden] { display: none; }` but bootstrap.min.css set `[hidden] { display: none !important; }` so we also need the `!important` here to be able to override the default hidden behavior on the sphinx rendered scikit-learn.org. See: https://github.com/scikit-learn/scikit-learn/issues/21755 */display: inline-block !important;position: relative;}#sk-container-id-7 div.sk-text-repr-fallback {display: none;}</style><div id=\"sk-container-id-7\" class=\"sk-top-container\"><div class=\"sk-text-repr-fallback\"><pre>LogisticRegression()</pre><b>In a Jupyter environment, please rerun this cell to show the HTML representation or trust the notebook. <br />On GitHub, the HTML representation is unable to render, please try loading this page with nbviewer.org.</b></div><div class=\"sk-container\" hidden><div class=\"sk-item\"><div class=\"sk-estimator sk-toggleable\"><input class=\"sk-toggleable__control sk-hidden--visually\" id=\"sk-estimator-id-7\" type=\"checkbox\" checked><label for=\"sk-estimator-id-7\" class=\"sk-toggleable__label sk-toggleable__label-arrow\">LogisticRegression</label><div class=\"sk-toggleable__content\"><pre>LogisticRegression()</pre></div></div></div></div></div>"
      ],
      "text/plain": [
       "LogisticRegression()"
      ]
     },
     "execution_count": 78,
     "metadata": {},
     "output_type": "execute_result"
    }
   ],
   "source": [
    "model.fit(x_train,y_train)"
   ]
  },
  {
   "cell_type": "code",
   "execution_count": 79,
   "id": "ed3acbbe",
   "metadata": {},
   "outputs": [],
   "source": [
    "y_pred = model.predict(x_test)"
   ]
  },
  {
   "cell_type": "code",
   "execution_count": 80,
   "id": "ea4ed158",
   "metadata": {},
   "outputs": [],
   "source": [
    "kf = KFold(n_splits= 5,shuffle=False)\n",
    "scores = cross_val_score(model,x,y,cv=kf,scoring = \"accuracy\")"
   ]
  },
  {
   "cell_type": "code",
   "execution_count": 81,
   "id": "c04a2662",
   "metadata": {},
   "outputs": [
    {
     "name": "stdout",
     "output_type": "stream",
     "text": [
      "[0.5  0.55 0.3  0.5  0.45]\n"
     ]
    }
   ],
   "source": [
    "print(scores)"
   ]
  },
  {
   "cell_type": "code",
   "execution_count": 82,
   "id": "f24ce1e7",
   "metadata": {},
   "outputs": [
    {
     "data": {
      "text/plain": [
       "<matplotlib.collections.PathCollection at 0x220c9693c90>"
      ]
     },
     "execution_count": 82,
     "metadata": {},
     "output_type": "execute_result"
    },
    {
     "data": {
      "image/png": "[encoded data removed]",
      "text/plain": [
       "<Figure size 640x480 with 1 Axes>"
      ]
     },
     "metadata": {},
     "output_type": "display_data"
    }
   ],
   "source": [
    "import matplotlib.pyplot as plt\n",
    "\n",
    "plt.scatter(y,x)\n",
    "\n"
   ]
  },
  {
   "cell_type": "code",
   "execution_count": null,
   "id": "ec650db8",
   "metadata": {},
   "outputs": [],
   "source": []
  }
 ],
 "metadata": {
  "kernelspec": {
   "display_name": "Python 3 (ipykernel)",
   "language": "python",
   "name": "python3"
  },
  "language_info": {
   "codemirror_mode": {
    "name": "ipython",
    "version": 3
   },
   "file_extension": ".py",
   "mimetype": "text/x-python",
   "name": "python",
   "nbconvert_exporter": "python",
   "pygments_lexer": "ipython3",
   "version": "3.11.4"
  }
 },
 "nbformat": 4,
 "nbformat_minor": 5
}
